{
  "nbformat": 4,
  "nbformat_minor": 0,
  "metadata": {
    "colab": {
      "provenance": []
    },
    "kernelspec": {
      "name": "python3",
      "display_name": "Python 3"
    },
    "language_info": {
      "name": "python"
    }
  },
  "cells": [
    {
      "cell_type": "code",
      "metadata": {
        "id": "es0ZVxjCcY7M",
        "colab": {
          "base_uri": "https://localhost:8080/"
        },
        "outputId": "48f54729-94ce-4e97-dcb6-c96fc0bd8f8e"
      },
      "source": [
        "!pip install -q condacolab\n",
        "import condacolab\n",
        "condacolab.install()\n",
        "!conda install -c rdkit rdkit"
      ],
      "execution_count": 1,
      "outputs": [
        {
          "output_type": "stream",
          "name": "stdout",
          "text": [
            "⏬ Downloading https://github.com/jaimergp/miniforge/releases/latest/download/Mambaforge-colab-Linux-x86_64.sh...\n",
            "📦 Installing...\n",
            "📌 Adjusting configuration...\n",
            "🩹 Patching environment...\n",
            "⏲ Done in 0:00:31\n",
            "🔁 Restarting kernel...\n",
            "Collecting package metadata (current_repodata.json): - \b\b\\ \b\b| \b\b/ \b\b- \b\b\\ \b\b| \b\b/ \b\b- \b\b\\ \b\b| \b\b/ \b\b- \b\b\\ \b\b| \b\b/ \b\b- \b\b\\ \b\b| \b\b/ \b\b- \b\b\\ \b\b| \b\b/ \b\b- \b\b\\ \b\b| \b\b/ \b\b- \b\b\\ \b\b| \b\b/ \b\b- \b\b\\ \b\b| \b\b/ \b\b- \b\b\\ \b\b| \b\b/ \b\b- \b\b\\ \b\b| \b\b/ \b\b- \b\b\\ \b\b| \b\b/ \b\b- \b\b\\ \b\b| \b\b/ \b\b- \b\b\\ \b\b| \b\b/ \b\b- \b\b\\ \b\b| \b\b/ \b\b- \b\b\\ \b\b| \b\b/ \b\b- \b\b\\ \b\b| \b\b/ \b\b- \b\b\\ \b\b| \b\b/ \b\b- \b\b\\ \b\b| \b\b/ \b\b- \b\b\\ \b\b| \b\b/ \b\b- \b\b\\ \b\b| \b\b/ \b\b- \b\b\\ \b\b| \b\b/ \b\b- \b\b\\ \b\b| \b\b/ \b\b- \b\b\\ \b\b| \b\b/ \b\b- \b\b\\ \b\b| \b\b/ \b\b- \b\b\\ \b\b| \b\b/ \b\b- \b\b\\ \b\b| \b\b/ \b\b- \b\b\\ \b\b| \b\b/ \b\b- \b\b\\ \b\b| \b\b/ \b\b- \b\b\\ \b\b| \b\b/ \b\b- \b\b\\ \b\b| \b\b/ \b\b- \b\b\\ \b\b| \b\b/ \b\b- \b\b\\ \b\b| \b\b/ \b\b- \b\b\\ \b\b| \b\b/ \b\b- \b\b\\ \b\b| \b\b/ \b\b- \b\b\\ \b\b| \b\b/ \b\b- \b\b\\ \b\b| \b\b/ \b\b- \b\b\\ \b\b| \b\b/ \b\b- \b\b\\ \b\b| \b\b/ \b\b- \b\b\\ \b\b| \b\bdone\n",
            "Solving environment: - \b\b\\ \b\b| \b\b/ \b\b- \b\b\\ \b\b| \b\b/ \b\b- \b\b\\ \b\b| \b\b/ \b\b- \b\b\\ \b\b| \b\b/ \b\b- \b\b\\ \b\b| \b\b/ \b\b- \b\b\\ \b\b| \b\b/ \b\b- \b\b\\ \b\b| \b\b/ \b\b- \b\b\\ \b\b| \b\b/ \b\b- \b\b\\ \b\b| \b\b/ \b\b- \b\b\\ \b\b| \b\b/ \b\b- \b\b\\ \b\b| \b\b/ \b\b- \b\b\\ \b\b| \b\b/ \b\b- \b\b\\ \b\b| \b\b/ \b\b- \b\b\\ \b\b| \b\b/ \b\b- \b\b\\ \b\b| \b\b/ \b\b- \b\b\\ \b\b| \b\b/ \b\b- \b\b\\ \b\b| \b\b/ \b\b- \b\b\\ \b\b| \b\b/ \b\b- \b\b\\ \b\b| \b\b/ \b\b- \b\b\\ \b\b| \b\b/ \b\b- \b\b\\ \b\b| \b\b/ \b\b- \b\bfailed with initial frozen solve. Retrying with flexible solve.\n",
            "Solving environment: | \b\b/ \b\b- \b\b\\ \b\b| \b\b/ \b\b- \b\b\\ \b\b| \b\b/ \b\b- \b\b\\ \b\b| \b\b/ \b\b- \b\b\\ \b\b| \b\b/ \b\b- \b\b\\ \b\b| \b\b/ \b\b- \b\b\\ \b\b| \b\b/ \b\b- \b\b\\ \b\b| \b\b/ \b\b- \b\b\\ \b\b| \b\b/ \b\b- \b\b\\ \b\b| \b\b/ \b\b- \b\b\\ \b\b| \b\b/ \b\b- \b\b\\ \b\b| \b\b/ \b\b- \b\b\\ \b\b| \b\b/ \b\b- \b\b\\ \b\b| \b\b/ \b\b- \b\b\\ \b\b| \b\b/ \b\b- \b\b\\ \b\b| \b\b/ \b\b- \b\b\\ \b\b| \b\b/ \b\b- \b\b\\ \b\b| \b\b/ \b\b- \b\b\\ \b\b| \b\b/ \b\b- \b\b\\ \b\b| \b\b/ \b\b- \b\b\\ \b\b| \b\b/ \b\b- \b\b\\ \b\b| \b\b/ \b\b- \b\b\\ \b\b| \b\b/ \b\b- \b\b\\ \b\b| \b\b/ \b\b- \b\b\\ \b\b| \b\b/ \b\b- \b\b\\ \b\b| \b\b/ \b\b- \b\b\\ \b\b| \b\b/ \b\b- \b\b\\ \b\b| \b\b/ \b\b- \b\b\\ \b\b| \b\b/ \b\b- \b\b\\ \b\b| \b\b/ \b\b- \b\b\\ \b\b| \b\b/ \b\b- \b\b\\ \b\b| \b\b/ \b\b- \b\b\\ \b\b| \b\b/ \b\b- \b\b\\ \b\b| \b\b/ \b\b- \b\b\\ \b\b| \b\b/ \b\b- \b\b\\ \b\b| \b\b/ \b\b- \b\b\\ \b\b| \b\b/ \b\b- \b\b\\ \b\b| \b\b/ \b\b- \b\b\\ \b\b| \b\b/ \b\b- \b\b\\ \b\b| \b\b/ \b\b- \b\b\\ \b\b| \b\b/ \b\b- \b\b\\ \b\b| \b\b/ \b\b- \b\b\\ \b\b| \b\b/ \b\b- \b\b\\ \b\b| \b\b/ \b\b- \b\b\\ \b\b| \b\b/ \b\b- \b\b\\ \b\b| \b\b/ \b\b- \b\b\\ \b\b| \b\b/ \b\b- \b\b\\ \b\b| \b\b/ \b\b- \b\b\\ \b\b| \b\b/ \b\b- \b\b\\ \b\b| \b\b/ \b\b- \b\b\\ \b\b| \b\b/ \b\b- \b\b\\ \b\b| \b\b/ \b\b- \b\b\\ \b\b| \b\b/ \b\b- \b\b\\ \b\b| \b\b/ \b\b- \b\b\\ \b\b| \b\b/ \b\b- \b\b\\ \b\b| \b\b/ \b\b- \b\b\\ \b\b| \b\b/ \b\b- \b\b\\ \b\b| \b\b/ \b\b- \b\b\\ \b\b| \b\b/ \b\b- \b\b\\ \b\bfailed with repodata from current_repodata.json, will retry with next repodata source.\n",
            "Collecting package metadata (repodata.json): / \b\b- \b\b\\ \b\b| \b\b/ \b\b- \b\b\\ \b\b| \b\b/ \b\b- \b\b\\ \b\b| \b\b/ \b\b- \b\b\\ \b\b| \b\b/ \b\b- \b\b\\ \b\b| \b\b/ \b\b- \b\b\\ \b\b| \b\b/ \b\b- \b\b\\ \b\b| \b\b/ \b\b- \b\b\\ \b\b| \b\b/ \b\b- \b\b\\ \b\b| \b\b/ \b\b- \b\b\\ \b\b| \b\b/ \b\b- \b\b\\ \b\b| \b\b/ \b\b- \b\b\\ \b\b| \b\b/ \b\b- \b\b\\ \b\b| \b\b/ \b\b- \b\b\\ \b\b| \b\b/ \b\b- \b\b\\ \b\b| \b\b/ \b\b- \b\b\\ \b\b| \b\b/ \b\b- \b\b\\ \b\b| \b\b/ \b\b- \b\b\\ \b\b| \b\b/ \b\b- \b\b\\ \b\b| \b\b/ \b\b- \b\b\\ \b\b| \b\b/ \b\b- \b\b\\ \b\b| \b\b/ \b\b- \b\b\\ \b\b| \b\b/ \b\b- \b\b\\ \b\b| \b\b/ \b\b- \b\b\\ \b\b| \b\b/ \b\b- \b\b\\ \b\b| \b\b/ \b\b- \b\b\\ \b\b| \b\b/ \b\b- \b\b\\ \b\b| \b\b/ \b\b- \b\b\\ \b\b| \b\b/ \b\b- \b\b\\ \b\b| \b\b/ \b\b- \b\b\\ \b\b| \b\b/ \b\b- \b\b\\ \b\b| \b\b/ \b\b- \b\b\\ \b\b| \b\b/ \b\b- \b\b\\ \b\b| \b\b/ \b\b- \b\b\\ \b\b| \b\b/ \b\b- \b\b\\ \b\b| \b\b/ \b\b- \b\b\\ \b\b| \b\b/ \b\b- \b\b\\ \b\b| \b\b/ \b\b- \b\b\\ \b\b| \b\b/ \b\b- \b\b\\ \b\b| \b\b/ \b\b- \b\b\\ \b\b| \b\b/ \b\b- \b\b\\ \b\b| \b\b/ \b\b- \b\b\\ \b\b| \b\b/ \b\b- \b\b\\ \b\b| \b\b/ \b\b- \b\b\\ \b\b| \b\b/ \b\b- \b\b\\ \b\b| \b\b/ \b\b- \b\b\\ \b\b| \b\b/ \b\b- \b\b\\ \b\b| \b\b/ \b\b- \b\b\\ \b\b| \b\b/ \b\b- \b\b\\ \b\b| \b\b/ \b\b- \b\b\\ \b\b| \b\b/ \b\b- \b\b\\ \b\b| \b\b/ \b\b- \b\b\\ \b\b| \b\b/ \b\b- \b\b\\ \b\b| \b\b/ \b\b- \b\b\\ \b\b| \b\b/ \b\b- \b\b\\ \b\b| \b\b/ \b\b- \b\b\\ \b\b| \b\b/ \b\b- \b\b\\ \b\b| \b\b/ \b\b- \b\b\\ \b\b| \b\b/ \b\b- \b\b\\ \b\b| \b\b/ \b\b- \b\b\\ \b\b| \b\b/ \b\b- \b\b\\ \b\b| \b\b/ \b\b- \b\b\\ \b\b| \b\b/ \b\b- \b\b\\ \b\b| \b\b/ \b\b- \b\b\\ \b\b| \b\b/ \b\b- \b\b\\ \b\b| \b\b/ \b\b- \b\b\\ \b\b| \b\b/ \b\b- \b\b\\ \b\b| \b\b/ \b\b- \b\b\\ \b\b| \b\b/ \b\b- \b\b\\ \b\b| \b\b/ \b\b- \b\b\\ \b\b| \b\b/ \b\b- \b\b\\ \b\b| \b\b/ \b\b- \b\b\\ \b\b| \b\b/ \b\b- \b\b\\ \b\b| \b\b/ \b\b- \b\b\\ \b\b| \b\b/ \b\b- \b\b\\ \b\b| \b\b/ \b\b- \b\b\\ \b\b| \b\b/ \b\b- \b\b\\ \b\b| \b\b/ \b\b- \b\b\\ \b\b| \b\b/ \b\b- \b\b\\ \b\b| \b\b/ \b\b- \b\b\\ \b\b| \b\b/ \b\b- \b\b\\ \b\b| \b\b/ \b\b- \b\b\\ \b\b| \b\b/ \b\b- \b\b\\ \b\b| \b\b/ \b\b- \b\b\\ \b\b| \b\b/ \b\b- \b\b\\ \b\b| \b\b/ \b\b- \b\b\\ \b\b| \b\b/ \b\b- \b\b\\ \b\b| \b\b/ \b\b- \b\b\\ \b\b| \b\b/ \b\b- \b\b\\ \b\b| \b\b/ \b\b- \b\b\\ \b\b| \b\b/ \b\b- \b\b\\ \b\b| \b\b/ \b\b- \b\b\\ \b\b| \b\b/ \b\b- \b\b\\ \b\b| \b\b/ \b\b- \b\b\\ \b\b| \b\b/ \b\b- \b\b\\ \b\b| \b\b/ \b\b- \b\b\\ \b\b| \b\b/ \b\b- \b\b\\ \b\b| \b\b/ \b\b- \b\b\\ \b\b| \b\b/ \b\b- \b\b\\ \b\b| \b\b/ \b\b- \b\b\\ \b\b| \b\b/ \b\b- \b\b\\ \b\b| \b\b/ \b\b- \b\b\\ \b\b| \b\b/ \b\b- \b\b\\ \b\b| \b\b/ \b\b- \b\b\\ \b\b| \b\b/ \b\b- \b\b\\ \b\b| \b\b/ \b\b- \b\b\\ \b\b| \b\b/ \b\b- \b\b\\ \b\b| \b\b/ \b\b- \b\b\\ \b\b| \b\b/ \b\b- \b\b\\ \b\b| \b\b/ \b\b- \b\b\\ \b\b| \b\b/ \b\b- \b\b\\ \b\b| \b\b/ \b\b- \b\b\\ \b\b| \b\b/ \b\b- \b\b\\ \b\b| \b\b/ \b\b- \b\b\\ \b\b| \b\b/ \b\b- \b\b\\ \b\b| \b\b/ \b\b- \b\b\\ \b\b| \b\b/ \b\b- \b\b\\ \b\b| \b\b/ \b\b- \b\b\\ \b\b| \b\b/ \b\b- \b\b\\ \b\b| \b\b/ \b\b- \b\b\\ \b\b| \b\b/ \b\b- \b\b\\ \b\b| \b\b/ \b\b- \b\b\\ \b\b| \b\b/ \b\b- \b\b\\ \b\b| \b\b/ \b\b- \b\b\\ \b\b| \b\b/ \b\b- \b\b\\ \b\b| \b\b/ \b\b- \b\b\\ \b\b| \b\b/ \b\b- \b\b\\ \b\b| \b\b/ \b\b- \b\b\\ \b\b| \b\b/ \b\b- \b\b\\ \b\b| \b\b/ \b\b- \b\b\\ \b\b| \b\b/ \b\b- \b\b\\ \b\b| \b\b/ \b\b- \b\b\\ \b\b| \b\b/ \b\b- \b\b\\ \b\b| \b\b/ \b\b- \b\b\\ \b\b| \b\b/ \b\b- \b\b\\ \b\b| \b\b/ \b\b- \b\b\\ \b\b| \b\b/ \b\b- \b\b\\ \b\b| \b\b/ \b\b- \b\b\\ \b\b| \b\b/ \b\b- \b\b\\ \b\b| \b\b/ \b\b- \b\b\\ \b\b| \b\b/ \b\b- \b\b\\ \b\b| \b\b/ \b\b- \b\b\\ \b\b| \b\b/ \b\b- \b\b\\ \b\b| \b\b/ \b\b- \b\b\\ \b\b| \b\b/ \b\b- \b\b\\ \b\b| \b\b/ \b\b- \b\b\\ \b\b| \b\b/ \b\b- \b\b\\ \b\b| \b\b/ \b\b- \b\b\\ \b\b| \b\b/ \b\b- \b\b\\ \b\b| \b\b/ \b\b- \b\b\\ \b\b| \b\b/ \b\b- \b\b\\ \b\b| \b\b/ \b\b- \b\b\\ \b\b| \b\b/ \b\b- \b\b\\ \b\b| \b\b/ \b\b- \b\b\\ \b\b| \b\b/ \b\b- \b\b\\ \b\b| \b\b/ \b\b- \b\b\\ \b\b| \b\b/ \b\b- \b\b\\ \b\b| \b\b/ \b\b- \b\b\\ \b\b| \b\b/ \b\b- \b\b\\ \b\b| \b\b/ \b\b- \b\b\\ \b\b| \b\b/ \b\b- \b\b\\ \b\b| \b\b/ \b\b- \b\b\\ \b\bdone\n",
            "Solving environment: / \b\b- \b\b\\ \b\b| \b\b/ \b\b- \b\b\\ \b\b| \b\b/ \b\b- \b\b\\ \b\b| \b\b/ \b\b- \b\b\\ \b\b| \b\b/ \b\b- \b\b\\ \b\b| \b\b/ \b\b- \b\b\\ \b\b| \b\b/ \b\b- \b\b\\ \b\b| \b\b/ \b\b- \b\b\\ \b\b| \b\b/ \b\b- \b\b\\ \b\b| \b\b/ \b\b- \b\b\\ \b\b| \b\b/ \b\b- \b\b\\ \b\b| \b\b/ \b\b- \b\b\\ \b\b| \b\b/ \b\b- \b\b\\ \b\b| \b\b/ \b\b- \b\b\\ \b\b| \b\b/ \b\b- \b\b\\ \b\b| \b\b/ \b\b- \b\b\\ \b\b| \b\b/ \b\b- \b\b\\ \b\b| \b\b/ \b\b- \b\b\\ \b\b| \b\b/ \b\b- \b\b\\ \b\b| \b\b/ \b\b- \b\b\\ \b\b| \b\b/ \b\b- \b\b\\ \b\b| \b\b/ \b\b- \b\b\\ \b\b| \b\b/ \b\b- \b\b\\ \b\b| \b\b/ \b\b- \b\b\\ \b\b| \b\b/ \b\b- \b\b\\ \b\b| \b\b/ \b\b- \b\b\\ \b\b| \b\b/ \b\b- \b\b\\ \b\b| \b\b/ \b\b- \b\b\\ \b\b| \b\b/ \b\b- \b\b\\ \b\b| \b\b/ \b\b- \b\b\\ \b\b| \b\b/ \b\b- \b\b\\ \b\b| \b\b/ \b\b- \b\b\\ \b\b| \b\b/ \b\b- \b\b\\ \b\b| \b\b/ \b\b- \b\b\\ \b\b| \b\b/ \b\b- \b\b\\ \b\b| \b\b/ \b\b- \b\b\\ \b\b| \b\b/ \b\b- \b\b\\ \b\b| \b\b/ \b\b- \b\b\\ \b\b| \b\b/ \b\b- \b\b\\ \b\b| \b\b/ \b\b- \b\b\\ \b\b| \b\b/ \b\b- \b\b\\ \b\b| \b\b/ \b\b- \b\b\\ \b\b| \b\b/ \b\b- \b\b\\ \b\b| \b\b/ \b\b- \b\b\\ \b\b| \b\b/ \b\b- \b\b\\ \b\b| \b\b/ \b\b- \b\b\\ \b\b| \b\b/ \b\b- \b\b\\ \b\b| \b\b/ \b\b- \b\b\\ \b\b| \b\b/ \b\b- \b\b\\ \b\b| \b\b/ \b\b- \b\b\\ \b\b| \b\b/ \b\b- \b\b\\ \b\b| \b\b/ \b\b- \b\b\\ \b\b| \b\b/ \b\b- \b\b\\ \b\b| \b\b/ \b\b- \b\b\\ \b\b| \b\b/ \b\b- \b\b\\ \b\b| \b\b/ \b\b- \b\b\\ \b\b| \b\b/ \b\b- \b\b\\ \b\b| \b\b/ \b\b- \b\b\\ \b\b| \b\b/ \b\b- \b\b\\ \b\b| \b\b/ \b\b- \b\b\\ \b\b| \b\b/ \b\b- \b\b\\ \b\b| \b\b/ \b\b- \b\b\\ \b\b| \b\b/ \b\b- \b\b\\ \b\b| \b\b/ \b\b- \b\b\\ \b\b| \b\b/ \b\b- \b\b\\ \b\b| \b\b/ \b\b- \b\b\\ \b\b| \b\b/ \b\b- \b\b\\ \b\b| \b\b/ \b\b- \b\b\\ \b\b| \b\b/ \b\b- \b\b\\ \b\b| \b\b/ \b\b- \b\b\\ \b\b| \b\b/ \b\b- \b\b\\ \b\b| \b\b/ \b\b- \b\b\\ \b\b| \b\b/ \b\b- \b\b\\ \b\b| \b\b/ \b\b- \b\b\\ \b\b| \b\b/ \b\b- \b\b\\ \b\b| \b\b/ \b\b- \b\b\\ \b\b| \b\b/ \b\b- \b\b\\ \b\b| \b\b/ \b\b- \b\b\\ \b\b| \b\b/ \b\b- \b\b\\ \b\b| \b\b/ \b\b- \b\b\\ \b\b| \b\b/ \b\b- \b\b\\ \b\b| \b\b/ \b\b- \b\b\\ \b\b| \b\b/ \b\b- \b\b\\ \b\b| \b\b/ \b\b- \b\b\\ \b\b| \b\b/ \b\b- \b\b\\ \b\b| \b\b/ \b\b- \b\b\\ \b\b| \b\b/ \b\b- \b\b\\ \b\b| \b\b/ \b\b- \b\b\\ \b\b| \b\b/ \b\b- \b\b\\ \b\b| \b\b/ \b\b- \b\b\\ \b\b| \b\b/ \b\b- \b\b\\ \b\b| \b\b/ \b\b- \b\b\\ \b\b| \b\b/ \b\b- \b\b\\ \b\b| \b\b/ \b\b- \b\b\\ \b\b| \b\b/ \b\b- \b\b\\ \b\b| \b\b/ \b\b- \b\b\\ \b\b| \b\b/ \b\b- \b\b\\ \b\b| \b\b/ \b\b- \b\b\\ \b\b| \b\b/ \b\b- \b\bfailed with initial frozen solve. Retrying with flexible solve.\n",
            "Solving environment: | \b\b/ \b\b- \b\b\\ \b\b| \b\b/ \b\b- \b\b\\ \b\b| \b\b/ \b\b- \b\b\\ \b\b| \b\b/ \b\b- \b\b\\ \b\b| \b\b/ \b\b- \b\b\\ \b\b| \b\b/ \b\b- \b\b\\ \b\b| \b\b/ \b\b- \b\b\\ \b\b| \b\b/ \b\b- \b\b\\ \b\b| \b\b/ \b\b- \b\b\\ \b\b| \b\b/ \b\b- \b\b\\ \b\b| \b\b/ \b\b- \b\b\\ \b\b| \b\b/ \b\b- \b\b\\ \b\b| \b\b/ \b\b- \b\b\\ \b\b| \b\b/ \b\b- \b\b\\ \b\b| \b\b/ \b\b- \b\b\\ \b\b| \b\b/ \b\b- \b\b\\ \b\b| \b\b/ \b\b- \b\b\\ \b\b| \b\b/ \b\b- \b\b\\ \b\b| \b\b/ \b\b- \b\b\\ \b\b| \b\b/ \b\b- \b\b\\ \b\b| \b\b/ \b\b- \b\b\\ \b\b| \b\b/ \b\b- \b\b\\ \b\b| \b\b/ \b\b- \b\b\\ \b\b| \b\b/ \b\b- \b\b\\ \b\b| \b\b/ \b\b- \b\b\\ \b\b| \b\b/ \b\b- \b\b\\ \b\b| \b\b/ \b\b- \b\b\\ \b\b| \b\b/ \b\b- \b\b\\ \b\b| \b\b/ \b\b- \b\b\\ \b\b| \b\b/ \b\b- \b\b\\ \b\b| \b\b/ \b\b- \b\b\\ \b\b| \b\b/ \b\b- \b\b\\ \b\b| \b\b/ \b\b- \b\b\\ \b\b| \b\b/ \b\b- \b\b\\ \b\b| \b\b/ \b\b- \b\b\\ \b\b| \b\b/ \b\b- \b\b\\ \b\b| \b\b/ \b\b- \b\b\\ \b\b| \b\b/ \b\b- \b\b\\ \b\b| \b\b/ \b\b- \b\b\\ \b\b| \b\b/ \b\b- \b\b\\ \b\b| \b\b/ \b\b- \b\b\\ \b\b| \b\b/ \b\b- \b\b\\ \b\b| \b\b/ \b\b- \b\b\\ \b\b| \b\b/ \b\b- \b\b\\ \b\b| \b\b/ \b\b- \b\b\\ \b\b| \b\b/ \b\b- \b\b\\ \b\b| \b\b/ \b\b- \b\b\\ \b\b| \b\b/ \b\b- \b\b\\ \b\b| \b\b/ \b\b- \b\b\\ \b\b| \b\b/ \b\b- \b\b\\ \b\b| \b\b/ \b\b- \b\b\\ \b\b| \b\b/ \b\b- \b\b\\ \b\b| \b\b/ \b\b- \b\b\\ \b\b| \b\b/ \b\b- \b\b\\ \b\b| \b\b/ \b\b- \b\b\\ \b\b| \b\b/ \b\b- \b\b\\ \b\b| \b\b/ \b\b- \b\b\\ \b\b| \b\b/ \b\b- \b\b\\ \b\b| \b\b/ \b\b- \b\b\\ \b\b| \b\b/ \b\b- \b\b\\ \b\b| \b\b/ \b\b- \b\b\\ \b\b| \b\b/ \b\b- \b\b\\ \b\b| \b\b/ \b\b- \b\b\\ \b\b| \b\b/ \b\b- \b\b\\ \b\b| \b\b/ \b\b- \b\b\\ \b\b| \b\b/ \b\b- \b\b\\ \b\b| \b\b/ \b\b- \b\b\\ \b\b| \b\b/ \b\b- \b\b\\ \b\b| \b\b/ \b\b- \b\b\\ \b\b| \b\b/ \b\b- \b\b\\ \b\b| \b\b/ \b\b- \b\b\\ \b\b| \b\b/ \b\b- \b\b\\ \b\b| \b\b/ \b\b- \b\b\\ \b\b| \b\b/ \b\b- \b\b\\ \b\b| \b\b/ \b\b- \b\b\\ \b\b| \b\b/ \b\b- \b\b\\ \b\b| \b\b/ \b\b- \b\b\\ \b\b| \b\b/ \b\b- \b\b\\ \b\b| \b\b/ \b\b- \b\b\\ \b\b| \b\b/ \b\b- \b\b\\ \b\b| \b\b/ \b\b- \b\b\\ \b\b| \b\b/ \b\b- \b\b\\ \b\b| \b\b/ \b\b- \b\b\\ \b\b| \b\b/ \b\b- \b\b\\ \b\b| \b\b/ \b\b- \b\b\\ \b\b| \b\b/ \b\b- \b\b\\ \b\b| \b\b/ \b\b- \b\b\\ \b\b| \b\b/ \b\b- \b\b\\ \b\b| \b\b/ \b\b- \b\b\\ \b\b| \b\b/ \b\b- \b\b\\ \b\b| \b\b/ \b\b- \b\b\\ \b\b| \b\b/ \b\b- \b\b\\ \b\b| \b\b/ \b\b- \b\b\\ \b\b| \b\b/ \b\b- \b\b\\ \b\b| \b\b/ \b\b- \b\b\\ \b\b| \b\b/ \b\b- \b\b\\ \b\b| \b\b/ \b\b- \b\b\\ \b\b| \b\b/ \b\b- \b\b\\ \b\b| \b\b/ \b\b- \b\b\\ \b\b| \b\b/ \b\b- \b\b\\ \b\b| \b\b/ \b\b- \b\b\\ \b\b| \b\b/ \b\b- \b\b\\ \b\b| \b\b/ \b\b- \b\b\\ \b\b| \b\b/ \b\b- \b\b\\ \b\b| \b\b/ \b\b- \b\b\\ \b\b| \b\b/ \b\b- \b\b\\ \b\b| \b\b/ \b\b- \b\b\\ \b\b| \b\b/ \b\b- \b\b\\ \b\b| \b\b/ \b\b- \b\b\\ \b\b| \b\b/ \b\b- \b\b\\ \b\b| \b\b/ \b\b- \b\b\\ \b\b| \b\b/ \b\b- \b\b\\ \b\b| \b\b/ \b\b- \b\b\\ \b\b| \b\b/ \b\b- \b\b\\ \b\b| \b\b/ \b\b- \b\b\\ \b\b| \b\b/ \b\b- \b\b\\ \b\b| \b\b/ \b\b- \b\b\\ \b\b| \b\b/ \b\b- \b\b\\ \b\b| \b\b/ \b\b- \b\b\\ \b\b| \b\b/ \b\b- \b\b\\ \b\b| \b\b/ \b\b- \b\b\\ \b\b| \b\b/ \b\b- \b\b\\ \b\b| \b\b/ \b\b- \b\b\\ \b\b| \b\b/ \b\b- \b\b\\ \b\b| \b\b/ \b\b- \b\b\\ \b\b| \b\b/ \b\b- \b\b\\ \b\b| \b\b/ \b\b- \b\b\\ \b\b| \b\b/ \b\b- \b\b\\ \b\b| \b\b/ \b\b- \b\b\\ \b\b| \b\b/ \b\b- \b\b\\ \b\b| \b\b/ \b\b- \b\b\\ \b\b| \b\b/ \b\b- \b\b\\ \b\b| \b\b/ \b\b- \b\b\\ \b\b| \b\b/ \b\b- \b\b\\ \b\b| \b\b/ \b\b- \b\b\\ \b\b| \b\b/ \b\b- \b\b\\ \b\b| \b\b/ \b\b- \b\b\\ \b\b| \b\b/ \b\b- \b\b\\ \b\b| \b\b/ \b\b- \b\b\\ \b\b| \b\b/ \b\b- \b\b\\ \b\b| \b\b/ \b\b- \b\b\\ \b\b| \b\b/ \b\b- \b\b\\ \b\b| \b\b/ \b\b- \b\b\\ \b\b| \b\b/ \b\b- \b\b\\ \b\b| \b\b/ \b\b- \b\b\\ \b\b| \b\b/ \b\b- \b\b\\ \b\b| \b\b/ \b\b- \b\b\\ \b\b| \b\b/ \b\b- \b\b\\ \b\b| \b\b/ \b\b- \b\b\\ \b\b| \b\b/ \b\b- \b\b\\ \b\b| \b\b/ \b\b- \b\b\\ \b\b| \b\b/ \b\b- \b\b\\ \b\b| \b\b/ \b\b- \b\b\\ \b\b| \b\b/ \b\b- \b\b\\ \b\b| \b\b/ \b\b- \b\b\\ \b\b| \b\b/ \b\b- \b\b\\ \b\b| \b\b/ \b\b- \b\b\\ \b\b| \b\b/ \b\b- \b\b\\ \b\b| \b\b/ \b\b- \b\b\\ \b\b| \b\b/ \b\b- \b\b\\ \b\bdone\n",
            "\n",
            "## Package Plan ##\n",
            "\n",
            "  environment location: /usr/local\n",
            "\n",
            "  added / updated specs:\n",
            "    - rdkit\n",
            "\n",
            "\n",
            "The following packages will be downloaded:\n",
            "\n",
            "    package                    |            build\n",
            "    ---------------------------|-----------------\n",
            "    boost-1.78.0               |   py39h7c9e3ff_4         364 KB  conda-forge\n",
            "    boost-cpp-1.78.0           |       h75c5d50_1        17.1 MB  conda-forge\n",
            "    brotli-1.0.9               |       h166bdaf_8          18 KB  conda-forge\n",
            "    brotli-bin-1.0.9           |       h166bdaf_8          20 KB  conda-forge\n",
            "    brotlipy-0.7.0             |py39hb9d737c_1005         342 KB  conda-forge\n",
            "    ca-certificates-2022.12.7  |       ha878542_0         143 KB  conda-forge\n",
            "    cairo-1.16.0               |    ha61ee94_1014         1.5 MB  conda-forge\n",
            "    certifi-2022.12.7          |     pyhd8ed1ab_0         147 KB  conda-forge\n",
            "    cffi-1.15.1                |   py39he91dace_3         229 KB  conda-forge\n",
            "    colorama-0.4.6             |     pyhd8ed1ab_0          25 KB  conda-forge\n",
            "    conda-23.1.0               |   py39hf3d152e_0         906 KB  conda-forge\n",
            "    contourpy-1.0.7            |   py39h4b4f3f3_0         210 KB  conda-forge\n",
            "    cryptography-38.0.4        |   py39h3ccb8fc_0         1.3 MB  conda-forge\n",
            "    cycler-0.11.0              |     pyhd8ed1ab_0          10 KB  conda-forge\n",
            "    expat-2.5.0                |       h27087fc_0         189 KB  conda-forge\n",
            "    font-ttf-dejavu-sans-mono-2.37|       hab24e00_0         388 KB  conda-forge\n",
            "    font-ttf-inconsolata-3.000 |       h77eed37_0          94 KB  conda-forge\n",
            "    font-ttf-source-code-pro-2.038|       h77eed37_0         684 KB  conda-forge\n",
            "    font-ttf-ubuntu-0.83       |       hab24e00_0         1.9 MB  conda-forge\n",
            "    fontconfig-2.14.2          |       h14ed4e7_0         266 KB  conda-forge\n",
            "    fonts-conda-ecosystem-1    |                0           4 KB  conda-forge\n",
            "    fonts-conda-forge-1        |                0           4 KB  conda-forge\n",
            "    fonttools-4.39.0           |   py39h72bdee0_0         2.0 MB  conda-forge\n",
            "    freetype-2.12.1            |       hca18f0e_1         611 KB  conda-forge\n",
            "    gettext-0.21.1             |       h27087fc_0         4.1 MB  conda-forge\n",
            "    greenlet-2.0.2             |   py39h227be39_0         186 KB  conda-forge\n",
            "    importlib-resources-5.12.0 |     pyhd8ed1ab_0           9 KB  conda-forge\n",
            "    importlib_resources-5.12.0 |     pyhd8ed1ab_0          30 KB  conda-forge\n",
            "    kiwisolver-1.4.4           |   py39hf939315_1          76 KB  conda-forge\n",
            "    lcms2-2.15                 |       haa2dc70_1         236 KB  conda-forge\n",
            "    lerc-4.0.0                 |       h27087fc_0         275 KB  conda-forge\n",
            "    libblas-3.9.0              |16_linux64_openblas          13 KB  conda-forge\n",
            "    libbrotlicommon-1.0.9      |       h166bdaf_8          66 KB  conda-forge\n",
            "    libbrotlidec-1.0.9         |       h166bdaf_8          33 KB  conda-forge\n",
            "    libbrotlienc-1.0.9         |       h166bdaf_8         288 KB  conda-forge\n",
            "    libcblas-3.9.0             |16_linux64_openblas          13 KB  conda-forge\n",
            "    libdeflate-1.17            |       h0b41bf4_0          63 KB  conda-forge\n",
            "    libgfortran-ng-12.2.0      |      h69a702a_19          22 KB  conda-forge\n",
            "    libgfortran5-12.2.0        |      h337968e_19         1.8 MB  conda-forge\n",
            "    libglib-2.74.1             |       h606061b_1         3.1 MB  conda-forge\n",
            "    libjpeg-turbo-2.1.5.1      |       h0b41bf4_0         479 KB  conda-forge\n",
            "    liblapack-3.9.0            |16_linux64_openblas          13 KB  conda-forge\n",
            "    libmambapy-1.0.0           |   py39h37259de_2         298 KB  conda-forge\n",
            "    libopenblas-0.3.21         |pthreads_h78a6416_3        10.1 MB  conda-forge\n",
            "    libpng-1.6.39              |       h753d276_0         276 KB  conda-forge\n",
            "    libtiff-4.5.0              |       hddfeb54_5         397 KB  conda-forge\n",
            "    libwebp-base-1.2.4         |       h166bdaf_0         404 KB  conda-forge\n",
            "    libxcb-1.13                |    h7f98852_1004         391 KB  conda-forge\n",
            "    mamba-1.0.0                |   py39hc5d2bb1_2          47 KB  conda-forge\n",
            "    matplotlib-base-3.7.1      |   py39he190548_0         6.5 MB  conda-forge\n",
            "    munkres-1.1.4              |     pyh9f0ad1d_0          12 KB  conda-forge\n",
            "    numpy-1.24.2               |   py39h7360e5f_0         6.4 MB  conda-forge\n",
            "    openjpeg-2.5.0             |       hfec8fc6_2         344 KB  conda-forge\n",
            "    openssl-3.0.8              |       h0b41bf4_0         2.5 MB  conda-forge\n",
            "    packaging-23.0             |     pyhd8ed1ab_0          40 KB  conda-forge\n",
            "    pandas-1.5.3               |   py39h2ad29b5_0        11.4 MB  conda-forge\n",
            "    pcre2-10.40                |       hc3806b6_0         2.3 MB  conda-forge\n",
            "    pillow-9.4.0               |   py39h7207d5c_2        44.3 MB  conda-forge\n",
            "    pixman-0.40.0              |       h36c2ea0_0         627 KB  conda-forge\n",
            "    pluggy-1.0.0               |     pyhd8ed1ab_5          16 KB  conda-forge\n",
            "    pthread-stubs-0.4          |    h36c2ea0_1001           5 KB  conda-forge\n",
            "    pycairo-1.23.0             |   py39h23c5bb2_0         111 KB  conda-forge\n",
            "    pycosat-0.6.4              |   py39hb9d737c_1         108 KB  conda-forge\n",
            "    pyparsing-3.0.9            |     pyhd8ed1ab_0          79 KB  conda-forge\n",
            "    python-3.9.16              |h2782a2a_0_cpython        23.0 MB  conda-forge\n",
            "    python-dateutil-2.8.2      |     pyhd8ed1ab_0         240 KB  conda-forge\n",
            "    python_abi-3.9             |           3_cp39           6 KB  conda-forge\n",
            "    pytz-2022.7.1              |     pyhd8ed1ab_0         182 KB  conda-forge\n",
            "    rdkit-2022.09.4            |   py39hb00a813_1        34.0 MB  conda-forge\n",
            "    reportlab-3.6.12           |   py39h8bbe095_2         2.3 MB  conda-forge\n",
            "    ruamel.yaml-0.17.21        |   py39h72bdee0_3         184 KB  conda-forge\n",
            "    ruamel.yaml.clib-0.2.7     |   py39h72bdee0_1         140 KB  conda-forge\n",
            "    ruamel_yaml-0.15.80        |py39hb9d737c_1008         255 KB  conda-forge\n",
            "    six-1.16.0                 |     pyh6c4a22f_0          14 KB  conda-forge\n",
            "    sqlalchemy-2.0.5.post1     |   py39h72bdee0_0         2.4 MB  conda-forge\n",
            "    tqdm-4.65.0                |     pyhd8ed1ab_1          86 KB  conda-forge\n",
            "    typing-extensions-4.4.0    |       hd8ed1ab_0           8 KB  conda-forge\n",
            "    typing_extensions-4.4.0    |     pyha770c72_0          29 KB  conda-forge\n",
            "    tzdata-2022g               |       h191b570_0         106 KB  conda-forge\n",
            "    unicodedata2-15.0.0        |   py39hb9d737c_0         500 KB  conda-forge\n",
            "    xorg-kbproto-1.0.7         |    h7f98852_1002          27 KB  conda-forge\n",
            "    xorg-libice-1.0.10         |       h7f98852_0          58 KB  conda-forge\n",
            "    xorg-libsm-1.2.3           |    hd9c2040_1000          26 KB  conda-forge\n",
            "    xorg-libx11-1.8.4          |       h0b41bf4_0         810 KB  conda-forge\n",
            "    xorg-libxau-1.0.9          |       h7f98852_0          13 KB  conda-forge\n",
            "    xorg-libxdmcp-1.1.3        |       h7f98852_0          19 KB  conda-forge\n",
            "    xorg-libxext-1.3.4         |       h0b41bf4_2          49 KB  conda-forge\n",
            "    xorg-libxrender-0.9.10     |    h7f98852_1003          32 KB  conda-forge\n",
            "    xorg-renderproto-0.11.1    |    h7f98852_1002           9 KB  conda-forge\n",
            "    xorg-xextproto-7.3.0       |    h0b41bf4_1003          30 KB  conda-forge\n",
            "    xorg-xproto-7.0.31         |    h7f98852_1007          73 KB  conda-forge\n",
            "    zipp-3.15.0                |     pyhd8ed1ab_0          17 KB  conda-forge\n",
            "    zlib-1.2.13                |       h166bdaf_4          92 KB  conda-forge\n",
            "    zstandard-0.19.0           |   py39h29414ee_1         373 KB  conda-forge\n",
            "    ------------------------------------------------------------\n",
            "                                           Total:       190.7 MB\n",
            "\n",
            "The following NEW packages will be INSTALLED:\n",
            "\n",
            "  boost              conda-forge/linux-64::boost-1.78.0-py39h7c9e3ff_4 None\n",
            "  boost-cpp          conda-forge/linux-64::boost-cpp-1.78.0-h75c5d50_1 None\n",
            "  brotli             conda-forge/linux-64::brotli-1.0.9-h166bdaf_8 None\n",
            "  brotli-bin         conda-forge/linux-64::brotli-bin-1.0.9-h166bdaf_8 None\n",
            "  cairo              conda-forge/linux-64::cairo-1.16.0-ha61ee94_1014 None\n",
            "  colorama           conda-forge/noarch::colorama-0.4.6-pyhd8ed1ab_0 None\n",
            "  contourpy          conda-forge/linux-64::contourpy-1.0.7-py39h4b4f3f3_0 None\n",
            "  cycler             conda-forge/noarch::cycler-0.11.0-pyhd8ed1ab_0 None\n",
            "  expat              conda-forge/linux-64::expat-2.5.0-h27087fc_0 None\n",
            "  font-ttf-dejavu-s~ conda-forge/noarch::font-ttf-dejavu-sans-mono-2.37-hab24e00_0 None\n",
            "  font-ttf-inconsol~ conda-forge/noarch::font-ttf-inconsolata-3.000-h77eed37_0 None\n",
            "  font-ttf-source-c~ conda-forge/noarch::font-ttf-source-code-pro-2.038-h77eed37_0 None\n",
            "  font-ttf-ubuntu    conda-forge/noarch::font-ttf-ubuntu-0.83-hab24e00_0 None\n",
            "  fontconfig         conda-forge/linux-64::fontconfig-2.14.2-h14ed4e7_0 None\n",
            "  fonts-conda-ecosy~ conda-forge/noarch::fonts-conda-ecosystem-1-0 None\n",
            "  fonts-conda-forge  conda-forge/noarch::fonts-conda-forge-1-0 None\n",
            "  fonttools          conda-forge/linux-64::fonttools-4.39.0-py39h72bdee0_0 None\n",
            "  freetype           conda-forge/linux-64::freetype-2.12.1-hca18f0e_1 None\n",
            "  gettext            conda-forge/linux-64::gettext-0.21.1-h27087fc_0 None\n",
            "  greenlet           conda-forge/linux-64::greenlet-2.0.2-py39h227be39_0 None\n",
            "  importlib-resourc~ conda-forge/noarch::importlib-resources-5.12.0-pyhd8ed1ab_0 None\n",
            "  importlib_resourc~ conda-forge/noarch::importlib_resources-5.12.0-pyhd8ed1ab_0 None\n",
            "  kiwisolver         conda-forge/linux-64::kiwisolver-1.4.4-py39hf939315_1 None\n",
            "  lcms2              conda-forge/linux-64::lcms2-2.15-haa2dc70_1 None\n",
            "  lerc               conda-forge/linux-64::lerc-4.0.0-h27087fc_0 None\n",
            "  libblas            conda-forge/linux-64::libblas-3.9.0-16_linux64_openblas None\n",
            "  libbrotlicommon    conda-forge/linux-64::libbrotlicommon-1.0.9-h166bdaf_8 None\n",
            "  libbrotlidec       conda-forge/linux-64::libbrotlidec-1.0.9-h166bdaf_8 None\n",
            "  libbrotlienc       conda-forge/linux-64::libbrotlienc-1.0.9-h166bdaf_8 None\n",
            "  libcblas           conda-forge/linux-64::libcblas-3.9.0-16_linux64_openblas None\n",
            "  libdeflate         conda-forge/linux-64::libdeflate-1.17-h0b41bf4_0 None\n",
            "  libgfortran-ng     conda-forge/linux-64::libgfortran-ng-12.2.0-h69a702a_19 None\n",
            "  libgfortran5       conda-forge/linux-64::libgfortran5-12.2.0-h337968e_19 None\n",
            "  libglib            conda-forge/linux-64::libglib-2.74.1-h606061b_1 None\n",
            "  libjpeg-turbo      conda-forge/linux-64::libjpeg-turbo-2.1.5.1-h0b41bf4_0 None\n",
            "  liblapack          conda-forge/linux-64::liblapack-3.9.0-16_linux64_openblas None\n",
            "  libopenblas        conda-forge/linux-64::libopenblas-0.3.21-pthreads_h78a6416_3 None\n",
            "  libpng             conda-forge/linux-64::libpng-1.6.39-h753d276_0 None\n",
            "  libtiff            conda-forge/linux-64::libtiff-4.5.0-hddfeb54_5 None\n",
            "  libwebp-base       conda-forge/linux-64::libwebp-base-1.2.4-h166bdaf_0 None\n",
            "  libxcb             conda-forge/linux-64::libxcb-1.13-h7f98852_1004 None\n",
            "  matplotlib-base    conda-forge/linux-64::matplotlib-base-3.7.1-py39he190548_0 None\n",
            "  munkres            conda-forge/noarch::munkres-1.1.4-pyh9f0ad1d_0 None\n",
            "  numpy              conda-forge/linux-64::numpy-1.24.2-py39h7360e5f_0 None\n",
            "  openjpeg           conda-forge/linux-64::openjpeg-2.5.0-hfec8fc6_2 None\n",
            "  packaging          conda-forge/noarch::packaging-23.0-pyhd8ed1ab_0 None\n",
            "  pandas             conda-forge/linux-64::pandas-1.5.3-py39h2ad29b5_0 None\n",
            "  pcre2              conda-forge/linux-64::pcre2-10.40-hc3806b6_0 None\n",
            "  pillow             conda-forge/linux-64::pillow-9.4.0-py39h7207d5c_2 None\n",
            "  pixman             conda-forge/linux-64::pixman-0.40.0-h36c2ea0_0 None\n",
            "  pluggy             conda-forge/noarch::pluggy-1.0.0-pyhd8ed1ab_5 None\n",
            "  pthread-stubs      conda-forge/linux-64::pthread-stubs-0.4-h36c2ea0_1001 None\n",
            "  pycairo            conda-forge/linux-64::pycairo-1.23.0-py39h23c5bb2_0 None\n",
            "  pyparsing          conda-forge/noarch::pyparsing-3.0.9-pyhd8ed1ab_0 None\n",
            "  python-dateutil    conda-forge/noarch::python-dateutil-2.8.2-pyhd8ed1ab_0 None\n",
            "  pytz               conda-forge/noarch::pytz-2022.7.1-pyhd8ed1ab_0 None\n",
            "  rdkit              conda-forge/linux-64::rdkit-2022.09.4-py39hb00a813_1 None\n",
            "  reportlab          conda-forge/linux-64::reportlab-3.6.12-py39h8bbe095_2 None\n",
            "  ruamel.yaml        conda-forge/linux-64::ruamel.yaml-0.17.21-py39h72bdee0_3 None\n",
            "  ruamel.yaml.clib   conda-forge/linux-64::ruamel.yaml.clib-0.2.7-py39h72bdee0_1 None\n",
            "  six                conda-forge/noarch::six-1.16.0-pyh6c4a22f_0 None\n",
            "  sqlalchemy         conda-forge/linux-64::sqlalchemy-2.0.5.post1-py39h72bdee0_0 None\n",
            "  tqdm               conda-forge/noarch::tqdm-4.65.0-pyhd8ed1ab_1 None\n",
            "  typing-extensions  conda-forge/noarch::typing-extensions-4.4.0-hd8ed1ab_0 None\n",
            "  typing_extensions  conda-forge/noarch::typing_extensions-4.4.0-pyha770c72_0 None\n",
            "  tzdata             conda-forge/noarch::tzdata-2022g-h191b570_0 None\n",
            "  unicodedata2       conda-forge/linux-64::unicodedata2-15.0.0-py39hb9d737c_0 None\n",
            "  xorg-kbproto       conda-forge/linux-64::xorg-kbproto-1.0.7-h7f98852_1002 None\n",
            "  xorg-libice        conda-forge/linux-64::xorg-libice-1.0.10-h7f98852_0 None\n",
            "  xorg-libsm         conda-forge/linux-64::xorg-libsm-1.2.3-hd9c2040_1000 None\n",
            "  xorg-libx11        conda-forge/linux-64::xorg-libx11-1.8.4-h0b41bf4_0 None\n",
            "  xorg-libxau        conda-forge/linux-64::xorg-libxau-1.0.9-h7f98852_0 None\n",
            "  xorg-libxdmcp      conda-forge/linux-64::xorg-libxdmcp-1.1.3-h7f98852_0 None\n",
            "  xorg-libxext       conda-forge/linux-64::xorg-libxext-1.3.4-h0b41bf4_2 None\n",
            "  xorg-libxrender    conda-forge/linux-64::xorg-libxrender-0.9.10-h7f98852_1003 None\n",
            "  xorg-renderproto   conda-forge/linux-64::xorg-renderproto-0.11.1-h7f98852_1002 None\n",
            "  xorg-xextproto     conda-forge/linux-64::xorg-xextproto-7.3.0-h0b41bf4_1003 None\n",
            "  xorg-xproto        conda-forge/linux-64::xorg-xproto-7.0.31-h7f98852_1007 None\n",
            "  zipp               conda-forge/noarch::zipp-3.15.0-pyhd8ed1ab_0 None\n",
            "  zlib               conda-forge/linux-64::zlib-1.2.13-h166bdaf_4 None\n",
            "\n",
            "The following packages will be UPDATED:\n",
            "\n",
            "  ca-certificates                      2022.9.24-ha878542_0 --> 2022.12.7-ha878542_0 None\n",
            "  certifi                            2022.9.24-pyhd8ed1ab_0 --> 2022.12.7-pyhd8ed1ab_0 None\n",
            "  cffi                                1.15.1-py38h4a40e3a_2 --> 1.15.1-py39he91dace_3 None\n",
            "  conda                               22.9.0-py38h578d9bd_2 --> 23.1.0-py39hf3d152e_0 None\n",
            "  openssl                                  3.0.7-h0b41bf4_1 --> 3.0.8-h0b41bf4_0 None\n",
            "  python                          3.8.15-h4a9ceb5_0_cpython --> 3.9.16-h2782a2a_0_cpython None\n",
            "  python_abi                                     3.8-3_cp38 --> 3.9-3_cp39 None\n",
            "\n",
            "The following packages will be DOWNGRADED:\n",
            "\n",
            "  brotlipy                          0.7.0-py38h0a891b7_1005 --> 0.7.0-py39hb9d737c_1005 None\n",
            "  cryptography                        38.0.4-py38h80a4ca7_0 --> 38.0.4-py39h3ccb8fc_0 None\n",
            "  libmambapy                           1.0.0-py38h2cd2533_2 --> 1.0.0-py39h37259de_2 None\n",
            "  mamba                                1.0.0-py38haad2881_2 --> 1.0.0-py39hc5d2bb1_2 None\n",
            "  pycosat                              0.6.4-py38h0a891b7_1 --> 0.6.4-py39hb9d737c_1 None\n",
            "  ruamel_yaml                     0.15.80-py38h0a891b7_1008 --> 0.15.80-py39hb9d737c_1008 None\n",
            "  zstandard                           0.19.0-py38h5945529_1 --> 0.19.0-py39h29414ee_1 None\n",
            "\n",
            "\n",
            "\n",
            "Downloading and Extracting Packages\n",
            "tzdata-2022g         | 106 KB    | : 100% 1.0/1 [00:00<00:00,  4.49it/s]\n",
            "python-dateutil-2.8. | 240 KB    | : 100% 1.0/1 [00:00<00:00, 15.59it/s]\n",
            "openssl-3.0.8        | 2.5 MB    | : 100% 1.0/1 [00:00<00:00,  7.78it/s]\n",
            "libblas-3.9.0        | 13 KB     | : 100% 1.0/1 [00:00<00:00, 26.43it/s]\n",
            "cryptography-38.0.4  | 1.3 MB    | : 100% 1.0/1 [00:00<00:00,  6.43it/s]\n",
            "pycosat-0.6.4        | 108 KB    | : 100% 1.0/1 [00:00<00:00, 20.21it/s]\n",
            "font-ttf-ubuntu-0.83 | 1.9 MB    | : 100% 1.0/1 [00:00<00:00,  3.07it/s]\n",
            "kiwisolver-1.4.4     | 76 KB     | : 100% 1.0/1 [00:00<00:00, 22.79it/s]\n",
            "libwebp-base-1.2.4   | 404 KB    | : 100% 1.0/1 [00:00<00:00,  9.83it/s]\n",
            "colorama-0.4.6       | 25 KB     | : 100% 1.0/1 [00:00<00:00, 28.21it/s]\n",
            "cycler-0.11.0        | 10 KB     | : 100% 1.0/1 [00:00<00:00, 35.62it/s]\n",
            "importlib-resources- | 9 KB      | : 100% 1.0/1 [00:00<00:00, 37.02it/s]\n",
            "greenlet-2.0.2       | 186 KB    | : 100% 1.0/1 [00:00<00:00, 17.12it/s]\n",
            "conda-23.1.0         | 906 KB    | : 100% 1.0/1 [00:00<00:00,  5.27it/s]\n",
            "python-3.9.16        | 23.0 MB   | : 100% 1.0/1 [00:01<00:00,  1.23s/it]\n",
            "brotlipy-0.7.0       | 342 KB    | : 100% 1.0/1 [00:00<00:00, 12.34it/s]\n",
            "libgfortran5-12.2.0  | 1.8 MB    | : 100% 1.0/1 [00:00<00:00,  2.81it/s]\n",
            "font-ttf-inconsolata | 94 KB     | : 100% 1.0/1 [00:00<00:00, 23.26it/s]\n",
            "ca-certificates-2022 | 143 KB    | : 100% 1.0/1 [00:00<00:00, 32.65it/s]\n",
            "brotli-bin-1.0.9     | 20 KB     | : 100% 1.0/1 [00:00<00:00, 34.13it/s]\n",
            "libxcb-1.13          | 391 KB    | : 100% 1.0/1 [00:00<00:00,  6.23it/s]\n",
            "libtiff-4.5.0        | 397 KB    | : 100% 1.0/1 [00:00<00:00, 19.87it/s]\n",
            "liblapack-3.9.0      | 13 KB     | : 100% 1.0/1 [00:00<00:00, 27.34it/s]\n",
            "gettext-0.21.1       | 4.1 MB    | : 100% 1.0/1 [00:01<00:00,  1.48s/it]\n",
            "lerc-4.0.0           | 275 KB    | : 100% 1.0/1 [00:00<00:00, 11.58it/s]\n",
            "contourpy-1.0.7      | 210 KB    | : 100% 1.0/1 [00:00<00:00, 21.55it/s]\n",
            "fonts-conda-forge-1  | 4 KB      | : 100% 1.0/1 [00:00<00:00, 36.07it/s]\n",
            "brotli-1.0.9         | 18 KB     | : 100% 1.0/1 [00:00<00:00, 32.43it/s]\n",
            "xorg-renderproto-0.1 | 9 KB      | : 100% 1.0/1 [00:00<00:00, 35.64it/s]\n",
            "libgfortran-ng-12.2. | 22 KB     | : 100% 1.0/1 [00:00<00:00, 27.28it/s]\n",
            "font-ttf-dejavu-sans | 388 KB    | : 100% 1.0/1 [00:00<00:00, 12.49it/s]\n",
            "pandas-1.5.3         | 11.4 MB   | : 100% 1.0/1 [00:01<00:00,  1.36s/it]               \n",
            "pillow-9.4.0         | 44.3 MB   | : 100% 1.0/1 [00:01<00:00,  1.17s/it]               \n",
            "ruamel.yaml.clib-0.2 | 140 KB    | : 100% 1.0/1 [00:00<00:00, 28.88it/s]\n",
            "ruamel_yaml-0.15.80  | 255 KB    | : 100% 1.0/1 [00:00<00:00,  8.22it/s]\n",
            "libmambapy-1.0.0     | 298 KB    | : 100% 1.0/1 [00:00<00:00,  7.78it/s]\n",
            "fonttools-4.39.0     | 2.0 MB    | : 100% 1.0/1 [00:00<00:00,  2.08it/s]\n",
            "libbrotlicommon-1.0. | 66 KB     | : 100% 1.0/1 [00:00<00:00, 16.53it/s]\n",
            "six-1.16.0           | 14 KB     | : 100% 1.0/1 [00:00<00:00, 23.27it/s]\n",
            "libjpeg-turbo-2.1.5. | 479 KB    | : 100% 1.0/1 [00:00<00:00, 11.87it/s]\n",
            "numpy-1.24.2         | 6.4 MB    | : 100% 1.0/1 [00:01<00:00,  1.02s/it]               \n",
            "pycairo-1.23.0       | 111 KB    | : 100% 1.0/1 [00:00<00:00, 24.87it/s]\n",
            "xorg-libice-1.0.10   | 58 KB     | : 100% 1.0/1 [00:00<00:00, 18.10it/s]\n",
            "cairo-1.16.0         | 1.5 MB    | : 100% 1.0/1 [00:00<00:00,  1.90it/s]\n",
            "fonts-conda-ecosyste | 4 KB      | : 100% 1.0/1 [00:00<00:00, 35.27it/s]\n",
            "unicodedata2-15.0.0  | 500 KB    | : 100% 1.0/1 [00:00<00:00,  7.06it/s]\n",
            "libdeflate-1.17      | 63 KB     | : 100% 1.0/1 [00:00<00:00, 23.48it/s]\n",
            "libbrotlienc-1.0.9   | 288 KB    | : 100% 1.0/1 [00:00<00:00,  8.88it/s]\n",
            "matplotlib-base-3.7. | 6.5 MB    | : 100% 1.0/1 [00:00<00:00,  1.27it/s]              \n",
            "font-ttf-source-code | 684 KB    | : 100% 1.0/1 [00:00<00:00,  5.43it/s]\n",
            "openjpeg-2.5.0       | 344 KB    | : 100% 1.0/1 [00:00<00:00, 11.64it/s]\n",
            "certifi-2022.12.7    | 147 KB    | : 100% 1.0/1 [00:00<00:00, 24.64it/s]\n",
            "libglib-2.74.1       | 3.1 MB    | : 100% 1.0/1 [00:00<00:00,  1.06it/s]\n",
            "xorg-kbproto-1.0.7   | 27 KB     | : 100% 1.0/1 [00:00<00:00, 21.29it/s]\n",
            "xorg-xproto-7.0.31   | 73 KB     | : 100% 1.0/1 [00:00<00:00, 15.78it/s]\n",
            "lcms2-2.15           | 236 KB    | : 100% 1.0/1 [00:00<00:00, 19.56it/s]\n",
            "fontconfig-2.14.2    | 266 KB    | : 100% 1.0/1 [00:00<00:00, 11.25it/s]\n",
            "pixman-0.40.0        | 627 KB    | : 100% 1.0/1 [00:00<00:00,  5.75it/s]\n",
            "zlib-1.2.13          | 92 KB     | : 100% 1.0/1 [00:00<00:00, 18.72it/s]\n",
            "pthread-stubs-0.4    | 5 KB      | : 100% 1.0/1 [00:00<00:00, 30.39it/s]\n",
            "importlib_resources- | 30 KB     | : 100% 1.0/1 [00:00<00:00, 16.45it/s]\n",
            "boost-1.78.0         | 364 KB    | : 100% 1.0/1 [00:00<00:00,  4.22it/s]\n",
            "xorg-libxext-1.3.4   | 49 KB     | : 100% 1.0/1 [00:00<00:00, 21.30it/s]\n",
            "zstandard-0.19.0     | 373 KB    | : 100% 1.0/1 [00:00<00:00, 17.97it/s]\n",
            "xorg-xextproto-7.3.0 | 30 KB     | : 100% 1.0/1 [00:00<00:00, 21.31it/s]\n",
            "xorg-libx11-1.8.4    | 810 KB    | : 100% 1.0/1 [00:00<00:00,  4.37it/s]\n",
            "typing_extensions-4. | 29 KB     | : 100% 1.0/1 [00:00<00:00, 27.25it/s]\n",
            "packaging-23.0       | 40 KB     | : 100% 1.0/1 [00:00<00:00, 20.80it/s]\n",
            "typing-extensions-4. | 8 KB      | : 100% 1.0/1 [00:00<00:00, 28.62it/s]\n",
            "xorg-libxau-1.0.9    | 13 KB     | : 100% 1.0/1 [00:00<00:00, 28.15it/s]\n",
            "libpng-1.6.39        | 276 KB    | : 100% 1.0/1 [00:00<00:00, 20.28it/s]\n",
            "xorg-libxrender-0.9. | 32 KB     | : 100% 1.0/1 [00:00<00:00, 26.84it/s]\n",
            "xorg-libsm-1.2.3     | 26 KB     | : 100% 1.0/1 [00:00<00:00, 22.27it/s]\n",
            "pyparsing-3.0.9      | 79 KB     | : 100% 1.0/1 [00:00<00:00, 16.57it/s]\n",
            "freetype-2.12.1      | 611 KB    | : 100% 1.0/1 [00:00<00:00, 12.74it/s]\n",
            "ruamel.yaml-0.17.21  | 184 KB    | : 100% 1.0/1 [00:00<00:00, 14.01it/s]\n",
            "zipp-3.15.0          | 17 KB     | : 100% 1.0/1 [00:00<00:00, 25.32it/s]\n",
            "sqlalchemy-2.0.5.pos | 2.4 MB    | : 100% 1.0/1 [00:00<00:00,  2.32it/s]\n",
            "boost-cpp-1.78.0     | 17.1 MB   | : 100% 1.0/1 [00:13<00:00, 13.79s/it]               \n",
            "mamba-1.0.0          | 47 KB     | : 100% 1.0/1 [00:00<00:00, 17.04it/s]\n",
            "pytz-2022.7.1        | 182 KB    | : 100% 1.0/1 [00:00<00:00,  2.13it/s]\n",
            "python_abi-3.9       | 6 KB      | : 100% 1.0/1 [00:00<00:00, 35.28it/s]\n",
            "cffi-1.15.1          | 229 KB    | : 100% 1.0/1 [00:00<00:00, 15.33it/s]\n",
            "rdkit-2022.09.4      | 34.0 MB   | : 100% 1.0/1 [00:02<00:00,  2.50s/it]               \n",
            "xorg-libxdmcp-1.1.3  | 19 KB     | : 100% 1.0/1 [00:00<00:00, 20.33it/s]\n",
            "libcblas-3.9.0       | 13 KB     | : 100% 1.0/1 [00:00<00:00, 20.31it/s]\n",
            "munkres-1.1.4        | 12 KB     | : 100% 1.0/1 [00:00<00:00, 27.41it/s]\n",
            "pcre2-10.40          | 2.3 MB    | : 100% 1.0/1 [00:00<00:00,  1.45it/s]\n",
            "expat-2.5.0          | 189 KB    | : 100% 1.0/1 [00:00<00:00, 11.12it/s]\n",
            "reportlab-3.6.12     | 2.3 MB    | : 100% 1.0/1 [00:00<00:00,  3.24it/s]\n",
            "libbrotlidec-1.0.9   | 33 KB     | : 100% 1.0/1 [00:00<00:00, 22.09it/s]\n",
            "tqdm-4.65.0          | 86 KB     | : 100% 1.0/1 [00:00<00:00, 14.79it/s]\n",
            "libopenblas-0.3.21   | 10.1 MB   | : 100% 1.0/1 [00:02<00:00,  2.64s/it]               \n",
            "pluggy-1.0.0         | 16 KB     | : 100% 1.0/1 [00:00<00:00, 23.61it/s]\n",
            "Preparing transaction: / \b\b- \b\b\\ \b\b| \b\b/ \b\b- \b\b\\ \b\b| \b\b/ \b\b- \b\b\\ \b\b| \b\b/ \b\b- \b\b\\ \b\b| \b\b/ \b\b- \b\b\\ \b\b| \b\b/ \b\b- \b\bdone\n",
            "Verifying transaction: | \b\b/ \b\b- \b\b\\ \b\b| \b\b/ \b\b- \b\b\\ \b\b| \b\b/ \b\b- \b\b\\ \b\b| \b\b/ \b\b- \b\b\\ \b\b| \b\b/ \b\b- \b\b\\ \b\b| \b\b/ \b\b- \b\b\\ \b\b| \b\b/ \b\b- \b\b\\ \b\b| \b\b/ \b\b- \b\b\\ \b\b| \b\b/ \b\b- \b\b\\ \b\b| \b\b/ \b\b- \b\b\\ \b\b| \b\b/ \b\b- \b\b\\ \b\b| \b\b/ \b\b- \b\b\\ \b\b| \b\bdone\n",
            "Executing transaction: - \b\b\\ \b\b| \b\b/ \b\b- \b\b\\ \b\b| \b\b/ \b\b- \b\b\\ \b\b| \b\b/ \b\b- \b\b\\ \b\b| \b\b/ \b\b- \b\b\\ \b\b| \b\b/ \b\b- \b\b\\ \b\b| \b\b/ \b\b- \b\b\\ \b\b| \b\b/ \b\b- \b\b\\ \b\b| \b\b/ \b\b- \b\b\\ \b\b| \b\b/ \b\b- \b\b\\ \b\b| \b\b/ \b\b- \b\b\\ \b\b| \b\b/ \b\b- \b\b\\ \b\b| \b\b/ \b\b- \b\b\\ \b\b| \b\b/ \b\b- \b\b\\ \b\b| \b\b/ \b\b- \b\b\\ \b\b| \b\b/ \b\b- \b\b\\ \b\b| \b\b/ \b\b- \b\b\\ \b\b| \b\b/ \b\b- \b\b\\ \b\b| \b\b/ \b\b- \b\b\\ \b\b| \b\b/ \b\b- \b\b\\ \b\bdone\n",
            "Retrieving notices: ...working... failed\n",
            "Traceback (most recent call last):\n",
            "  File \"/usr/local/lib/python3.8/site-packages/conda/exceptions.py\", line 1129, in __call__\n",
            "  File \"/usr/local/lib/python3.8/site-packages/conda/cli/main.py\", line 86, in main_subshell\n",
            "  File \"/usr/local/lib/python3.8/site-packages/conda/cli/conda_argparse.py\", line 93, in do_call\n",
            "  File \"/usr/local/lib/python3.8/site-packages/conda/notices/core.py\", line 75, in wrapper\n",
            "  File \"/usr/local/lib/python3.8/site-packages/conda/notices/core.py\", line 39, in display_notices\n",
            "  File \"/usr/local/lib/python3.8/site-packages/conda/notices/http.py\", line 36, in get_notice_responses\n",
            "  File \"/usr/local/lib/python3.8/site-packages/conda/notices/http.py\", line 39, in <genexpr>\n",
            "  File \"/usr/local/lib/python3.8/concurrent/futures/_base.py\", line 619, in result_iterator\n",
            "  File \"/usr/local/lib/python3.8/concurrent/futures/_base.py\", line 444, in result\n",
            "  File \"/usr/local/lib/python3.8/concurrent/futures/_base.py\", line 389, in __get_result\n",
            "  File \"/usr/local/lib/python3.8/concurrent/futures/thread.py\", line 57, in run\n",
            "  File \"/usr/local/lib/python3.8/site-packages/conda/notices/http.py\", line 42, in <lambda>\n",
            "  File \"/usr/local/lib/python3.8/site-packages/conda/notices/cache.py\", line 37, in wrapper\n",
            "  File \"/usr/local/lib/python3.8/site-packages/conda/notices/http.py\", line 58, in get_channel_notice_response\n",
            "  File \"/usr/local/lib/python3.8/site-packages/requests/sessions.py\", line 600, in get\n",
            "  File \"/usr/local/lib/python3.8/site-packages/requests/sessions.py\", line 587, in request\n",
            "  File \"/usr/local/lib/python3.8/site-packages/requests/sessions.py\", line 701, in send\n",
            "  File \"/usr/local/lib/python3.8/site-packages/requests/adapters.py\", line 460, in send\n",
            "  File \"/usr/local/lib/python3.8/site-packages/requests/adapters.py\", line 263, in cert_verify\n",
            "OSError: Could not find a suitable TLS CA certificate bundle, invalid path: /usr/local/lib/python3.8/site-packages/certifi/cacert.pem\n",
            "\n",
            "During handling of the above exception, another exception occurred:\n",
            "\n",
            "Traceback (most recent call last):\n",
            "  File \"/usr/local/bin/conda\", line 15, in <module>\n",
            "  File \"/usr/local/lib/python3.8/site-packages/conda/cli/main.py\", line 129, in main\n",
            "  File \"/usr/local/lib/python3.8/site-packages/conda/exceptions.py\", line 1429, in conda_exception_handler\n",
            "  File \"/usr/local/lib/python3.8/site-packages/conda/exceptions.py\", line 1132, in __call__\n",
            "  File \"/usr/local/lib/python3.8/site-packages/conda/exceptions.py\", line 1172, in handle_exception\n",
            "  File \"/usr/local/lib/python3.8/site-packages/conda/exceptions.py\", line 1183, in handle_unexpected_exception\n",
            "  File \"/usr/local/lib/python3.8/site-packages/conda/exceptions.py\", line 1245, in print_unexpected_error_report\n",
            "ModuleNotFoundError: No module named 'conda.cli.main_info'\n"
          ]
        }
      ]
    },
    {
      "cell_type": "code",
      "source": [
        "import numpy as np\n",
        "import pandas as pd\n",
        "import matplotlib.pyplot as plt\n",
        "import torch\n",
        "import torch.nn as nn\n",
        "from sklearn.preprocessing import StandardScaler\n",
        "from sklearn.model_selection import train_test_split\n",
        "from sklearn.feature_selection import VarianceThreshold"
      ],
      "metadata": {
        "id": "cAvQ6DQVRbqf"
      },
      "execution_count": 1,
      "outputs": []
    },
    {
      "cell_type": "code",
      "source": [
        "from rdkit import Chem, DataStructs\n",
        "from rdkit.Chem import PandasTools, AllChem"
      ],
      "metadata": {
        "id": "cyx9KWjgmhoZ"
      },
      "execution_count": 2,
      "outputs": []
    },
    {
      "cell_type": "code",
      "source": [
        "data = pd.read_csv(\"dataset.csv\")\n",
        "data.head(5)"
      ],
      "metadata": {
        "colab": {
          "base_uri": "https://localhost:8080/",
          "height": 357
        },
        "id": "6ySOdSzqnW93",
        "outputId": "3c021a9b-04a6-40ae-ac7a-be2e83114431"
      },
      "execution_count": 4,
      "outputs": [
        {
          "output_type": "execute_result",
          "data": {
            "text/plain": [
              "                Ambit_InchiKey Original_Entry_ID  Entrez_ID Activity_Flag  \\\n",
              "0  CWYBNSVSYKQGJB-UHFFFAOYNA-N          71541095       6532             A   \n",
              "1  CTETYYAZBPJBHE-UHFFFAOYNA-N        CHEMBL1289       6532             A   \n",
              "2  FQDRMHHCWZAXJM-UHFFFAOYNA-N            125558      25553             A   \n",
              "3  QRAWNNQNLQPNIZ-UHFFFAOYNA-N      CHEMBL205229       6532             A   \n",
              "4  HCFHWXDIZOAUTQ-UHFFFAOYNA-N        CHEMBL6376      25553             A   \n",
              "\n",
              "     pXC50        DB  Original_Assay_ID  Tax_ID Gene_Symbol  Ortholog_Group  \\\n",
              "0  6.85387   pubchem             727355    9606      SLC6A4            4061   \n",
              "1  6.37000  chembl20             774720    9606      SLC6A4            4061   \n",
              "2  9.98297   pubchem             205028   10116      SLC6A4            4061   \n",
              "3  7.54000  chembl20             950695    9606      SLC6A4            4061   \n",
              "4  6.11000  chembl20             201505   10116      SLC6A4            4061   \n",
              "\n",
              "                          SMILES  \n",
              "0     ClC=1C=C(C2CCCCNC2)C=CC1Cl  \n",
              "1  C(#CI)COC=1C=C(Cl)C(=CC1Cl)Cl  \n",
              "2       O1C=2C=C3CC(N)CC3=CC2OC1  \n",
              "3      N1C=C(CCN)C2=C1C(=CC=C2)F  \n",
              "4      C1(=CC=2OCOC2C=C1C)CC(N)C  "
            ],
            "text/html": [
              "\n",
              "  <div id=\"df-86699d8b-7d23-4931-9b22-dbc2b7ae40a7\">\n",
              "    <div class=\"colab-df-container\">\n",
              "      <div>\n",
              "<style scoped>\n",
              "    .dataframe tbody tr th:only-of-type {\n",
              "        vertical-align: middle;\n",
              "    }\n",
              "\n",
              "    .dataframe tbody tr th {\n",
              "        vertical-align: top;\n",
              "    }\n",
              "\n",
              "    .dataframe thead th {\n",
              "        text-align: right;\n",
              "    }\n",
              "</style>\n",
              "<table border=\"1\" class=\"dataframe\">\n",
              "  <thead>\n",
              "    <tr style=\"text-align: right;\">\n",
              "      <th></th>\n",
              "      <th>Ambit_InchiKey</th>\n",
              "      <th>Original_Entry_ID</th>\n",
              "      <th>Entrez_ID</th>\n",
              "      <th>Activity_Flag</th>\n",
              "      <th>pXC50</th>\n",
              "      <th>DB</th>\n",
              "      <th>Original_Assay_ID</th>\n",
              "      <th>Tax_ID</th>\n",
              "      <th>Gene_Symbol</th>\n",
              "      <th>Ortholog_Group</th>\n",
              "      <th>SMILES</th>\n",
              "    </tr>\n",
              "  </thead>\n",
              "  <tbody>\n",
              "    <tr>\n",
              "      <th>0</th>\n",
              "      <td>CWYBNSVSYKQGJB-UHFFFAOYNA-N</td>\n",
              "      <td>71541095</td>\n",
              "      <td>6532</td>\n",
              "      <td>A</td>\n",
              "      <td>6.85387</td>\n",
              "      <td>pubchem</td>\n",
              "      <td>727355</td>\n",
              "      <td>9606</td>\n",
              "      <td>SLC6A4</td>\n",
              "      <td>4061</td>\n",
              "      <td>ClC=1C=C(C2CCCCNC2)C=CC1Cl</td>\n",
              "    </tr>\n",
              "    <tr>\n",
              "      <th>1</th>\n",
              "      <td>CTETYYAZBPJBHE-UHFFFAOYNA-N</td>\n",
              "      <td>CHEMBL1289</td>\n",
              "      <td>6532</td>\n",
              "      <td>A</td>\n",
              "      <td>6.37000</td>\n",
              "      <td>chembl20</td>\n",
              "      <td>774720</td>\n",
              "      <td>9606</td>\n",
              "      <td>SLC6A4</td>\n",
              "      <td>4061</td>\n",
              "      <td>C(#CI)COC=1C=C(Cl)C(=CC1Cl)Cl</td>\n",
              "    </tr>\n",
              "    <tr>\n",
              "      <th>2</th>\n",
              "      <td>FQDRMHHCWZAXJM-UHFFFAOYNA-N</td>\n",
              "      <td>125558</td>\n",
              "      <td>25553</td>\n",
              "      <td>A</td>\n",
              "      <td>9.98297</td>\n",
              "      <td>pubchem</td>\n",
              "      <td>205028</td>\n",
              "      <td>10116</td>\n",
              "      <td>SLC6A4</td>\n",
              "      <td>4061</td>\n",
              "      <td>O1C=2C=C3CC(N)CC3=CC2OC1</td>\n",
              "    </tr>\n",
              "    <tr>\n",
              "      <th>3</th>\n",
              "      <td>QRAWNNQNLQPNIZ-UHFFFAOYNA-N</td>\n",
              "      <td>CHEMBL205229</td>\n",
              "      <td>6532</td>\n",
              "      <td>A</td>\n",
              "      <td>7.54000</td>\n",
              "      <td>chembl20</td>\n",
              "      <td>950695</td>\n",
              "      <td>9606</td>\n",
              "      <td>SLC6A4</td>\n",
              "      <td>4061</td>\n",
              "      <td>N1C=C(CCN)C2=C1C(=CC=C2)F</td>\n",
              "    </tr>\n",
              "    <tr>\n",
              "      <th>4</th>\n",
              "      <td>HCFHWXDIZOAUTQ-UHFFFAOYNA-N</td>\n",
              "      <td>CHEMBL6376</td>\n",
              "      <td>25553</td>\n",
              "      <td>A</td>\n",
              "      <td>6.11000</td>\n",
              "      <td>chembl20</td>\n",
              "      <td>201505</td>\n",
              "      <td>10116</td>\n",
              "      <td>SLC6A4</td>\n",
              "      <td>4061</td>\n",
              "      <td>C1(=CC=2OCOC2C=C1C)CC(N)C</td>\n",
              "    </tr>\n",
              "  </tbody>\n",
              "</table>\n",
              "</div>\n",
              "      <button class=\"colab-df-convert\" onclick=\"convertToInteractive('df-86699d8b-7d23-4931-9b22-dbc2b7ae40a7')\"\n",
              "              title=\"Convert this dataframe to an interactive table.\"\n",
              "              style=\"display:none;\">\n",
              "        \n",
              "  <svg xmlns=\"http://www.w3.org/2000/svg\" height=\"24px\"viewBox=\"0 0 24 24\"\n",
              "       width=\"24px\">\n",
              "    <path d=\"M0 0h24v24H0V0z\" fill=\"none\"/>\n",
              "    <path d=\"M18.56 5.44l.94 2.06.94-2.06 2.06-.94-2.06-.94-.94-2.06-.94 2.06-2.06.94zm-11 1L8.5 8.5l.94-2.06 2.06-.94-2.06-.94L8.5 2.5l-.94 2.06-2.06.94zm10 10l.94 2.06.94-2.06 2.06-.94-2.06-.94-.94-2.06-.94 2.06-2.06.94z\"/><path d=\"M17.41 7.96l-1.37-1.37c-.4-.4-.92-.59-1.43-.59-.52 0-1.04.2-1.43.59L10.3 9.45l-7.72 7.72c-.78.78-.78 2.05 0 2.83L4 21.41c.39.39.9.59 1.41.59.51 0 1.02-.2 1.41-.59l7.78-7.78 2.81-2.81c.8-.78.8-2.07 0-2.86zM5.41 20L4 18.59l7.72-7.72 1.47 1.35L5.41 20z\"/>\n",
              "  </svg>\n",
              "      </button>\n",
              "      \n",
              "  <style>\n",
              "    .colab-df-container {\n",
              "      display:flex;\n",
              "      flex-wrap:wrap;\n",
              "      gap: 12px;\n",
              "    }\n",
              "\n",
              "    .colab-df-convert {\n",
              "      background-color: #E8F0FE;\n",
              "      border: none;\n",
              "      border-radius: 50%;\n",
              "      cursor: pointer;\n",
              "      display: none;\n",
              "      fill: #1967D2;\n",
              "      height: 32px;\n",
              "      padding: 0 0 0 0;\n",
              "      width: 32px;\n",
              "    }\n",
              "\n",
              "    .colab-df-convert:hover {\n",
              "      background-color: #E2EBFA;\n",
              "      box-shadow: 0px 1px 2px rgba(60, 64, 67, 0.3), 0px 1px 3px 1px rgba(60, 64, 67, 0.15);\n",
              "      fill: #174EA6;\n",
              "    }\n",
              "\n",
              "    [theme=dark] .colab-df-convert {\n",
              "      background-color: #3B4455;\n",
              "      fill: #D2E3FC;\n",
              "    }\n",
              "\n",
              "    [theme=dark] .colab-df-convert:hover {\n",
              "      background-color: #434B5C;\n",
              "      box-shadow: 0px 1px 3px 1px rgba(0, 0, 0, 0.15);\n",
              "      filter: drop-shadow(0px 1px 2px rgba(0, 0, 0, 0.3));\n",
              "      fill: #FFFFFF;\n",
              "    }\n",
              "  </style>\n",
              "\n",
              "      <script>\n",
              "        const buttonEl =\n",
              "          document.querySelector('#df-86699d8b-7d23-4931-9b22-dbc2b7ae40a7 button.colab-df-convert');\n",
              "        buttonEl.style.display =\n",
              "          google.colab.kernel.accessAllowed ? 'block' : 'none';\n",
              "\n",
              "        async function convertToInteractive(key) {\n",
              "          const element = document.querySelector('#df-86699d8b-7d23-4931-9b22-dbc2b7ae40a7');\n",
              "          const dataTable =\n",
              "            await google.colab.kernel.invokeFunction('convertToInteractive',\n",
              "                                                     [key], {});\n",
              "          if (!dataTable) return;\n",
              "\n",
              "          const docLinkHtml = 'Like what you see? Visit the ' +\n",
              "            '<a target=\"_blank\" href=https://colab.research.google.com/notebooks/data_table.ipynb>data table notebook</a>'\n",
              "            + ' to learn more about interactive tables.';\n",
              "          element.innerHTML = '';\n",
              "          dataTable['output_type'] = 'display_data';\n",
              "          await google.colab.output.renderOutput(dataTable, element);\n",
              "          const docLink = document.createElement('div');\n",
              "          docLink.innerHTML = docLinkHtml;\n",
              "          element.appendChild(docLink);\n",
              "        }\n",
              "      </script>\n",
              "    </div>\n",
              "  </div>\n",
              "  "
            ]
          },
          "metadata": {},
          "execution_count": 4
        }
      ]
    },
    {
      "cell_type": "code",
      "source": [
        "!pwd"
      ],
      "metadata": {
        "colab": {
          "base_uri": "https://localhost:8080/"
        },
        "id": "LAODhkSonjmw",
        "outputId": "ffd3586a-87ba-4135-cd29-2b2d76e4d060"
      },
      "execution_count": 5,
      "outputs": [
        {
          "output_type": "stream",
          "name": "stdout",
          "text": [
            "/content\n"
          ]
        }
      ]
    },
    {
      "cell_type": "code",
      "source": [
        "PandasTools.AddMoleculeColumnToFrame(data,'SMILES','Molecule')"
      ],
      "metadata": {
        "id": "i5fON5PSnmM3"
      },
      "execution_count": 6,
      "outputs": []
    },
    {
      "cell_type": "code",
      "source": [
        "data.head()"
      ],
      "metadata": {
        "colab": {
          "base_uri": "https://localhost:8080/",
          "height": 444
        },
        "id": "76uoiLP3n1ZS",
        "outputId": "bc22c39c-c802-4cad-c4b4-7db1a610b29a"
      },
      "execution_count": 7,
      "outputs": [
        {
          "output_type": "execute_result",
          "data": {
            "text/plain": [
              "                Ambit_InchiKey Original_Entry_ID  Entrez_ID Activity_Flag  \\\n",
              "0  CWYBNSVSYKQGJB-UHFFFAOYNA-N          71541095       6532             A   \n",
              "1  CTETYYAZBPJBHE-UHFFFAOYNA-N        CHEMBL1289       6532             A   \n",
              "2  FQDRMHHCWZAXJM-UHFFFAOYNA-N            125558      25553             A   \n",
              "3  QRAWNNQNLQPNIZ-UHFFFAOYNA-N      CHEMBL205229       6532             A   \n",
              "4  HCFHWXDIZOAUTQ-UHFFFAOYNA-N        CHEMBL6376      25553             A   \n",
              "\n",
              "     pXC50        DB  Original_Assay_ID  Tax_ID Gene_Symbol  Ortholog_Group  \\\n",
              "0  6.85387   pubchem             727355    9606      SLC6A4            4061   \n",
              "1  6.37000  chembl20             774720    9606      SLC6A4            4061   \n",
              "2  9.98297   pubchem             205028   10116      SLC6A4            4061   \n",
              "3  7.54000  chembl20             950695    9606      SLC6A4            4061   \n",
              "4  6.11000  chembl20             201505   10116      SLC6A4            4061   \n",
              "\n",
              "                          SMILES  \\\n",
              "0     ClC=1C=C(C2CCCCNC2)C=CC1Cl   \n",
              "1  C(#CI)COC=1C=C(Cl)C(=CC1Cl)Cl   \n",
              "2       O1C=2C=C3CC(N)CC3=CC2OC1   \n",
              "3      N1C=C(CCN)C2=C1C(=CC=C2)F   \n",
              "4      C1(=CC=2OCOC2C=C1C)CC(N)C   \n",
              "\n",
              "                                           Molecule  \n",
              "0  <rdkit.Chem.rdchem.Mol object at 0x7fd488514cf0>  \n",
              "1  <rdkit.Chem.rdchem.Mol object at 0x7fd4891f6120>  \n",
              "2  <rdkit.Chem.rdchem.Mol object at 0x7fd4891f6190>  \n",
              "3  <rdkit.Chem.rdchem.Mol object at 0x7fd4891f6200>  \n",
              "4  <rdkit.Chem.rdchem.Mol object at 0x7fd4891f6270>  "
            ],
            "text/html": [
              "\n",
              "  <div id=\"df-d925f10f-2102-4f88-995a-c10969c15c04\">\n",
              "    <div class=\"colab-df-container\">\n",
              "      <div>\n",
              "<style scoped>\n",
              "    .dataframe tbody tr th:only-of-type {\n",
              "        vertical-align: middle;\n",
              "    }\n",
              "\n",
              "    .dataframe tbody tr th {\n",
              "        vertical-align: top;\n",
              "    }\n",
              "\n",
              "    .dataframe thead th {\n",
              "        text-align: right;\n",
              "    }\n",
              "</style>\n",
              "<table border=\"1\" class=\"dataframe\">\n",
              "  <thead>\n",
              "    <tr style=\"text-align: right;\">\n",
              "      <th></th>\n",
              "      <th>Ambit_InchiKey</th>\n",
              "      <th>Original_Entry_ID</th>\n",
              "      <th>Entrez_ID</th>\n",
              "      <th>Activity_Flag</th>\n",
              "      <th>pXC50</th>\n",
              "      <th>DB</th>\n",
              "      <th>Original_Assay_ID</th>\n",
              "      <th>Tax_ID</th>\n",
              "      <th>Gene_Symbol</th>\n",
              "      <th>Ortholog_Group</th>\n",
              "      <th>SMILES</th>\n",
              "      <th>Molecule</th>\n",
              "    </tr>\n",
              "  </thead>\n",
              "  <tbody>\n",
              "    <tr>\n",
              "      <th>0</th>\n",
              "      <td>CWYBNSVSYKQGJB-UHFFFAOYNA-N</td>\n",
              "      <td>71541095</td>\n",
              "      <td>6532</td>\n",
              "      <td>A</td>\n",
              "      <td>6.85387</td>\n",
              "      <td>pubchem</td>\n",
              "      <td>727355</td>\n",
              "      <td>9606</td>\n",
              "      <td>SLC6A4</td>\n",
              "      <td>4061</td>\n",
              "      <td>ClC=1C=C(C2CCCCNC2)C=CC1Cl</td>\n",
              "      <td>&lt;rdkit.Chem.rdchem.Mol object at 0x7fd488514cf0&gt;</td>\n",
              "    </tr>\n",
              "    <tr>\n",
              "      <th>1</th>\n",
              "      <td>CTETYYAZBPJBHE-UHFFFAOYNA-N</td>\n",
              "      <td>CHEMBL1289</td>\n",
              "      <td>6532</td>\n",
              "      <td>A</td>\n",
              "      <td>6.37000</td>\n",
              "      <td>chembl20</td>\n",
              "      <td>774720</td>\n",
              "      <td>9606</td>\n",
              "      <td>SLC6A4</td>\n",
              "      <td>4061</td>\n",
              "      <td>C(#CI)COC=1C=C(Cl)C(=CC1Cl)Cl</td>\n",
              "      <td>&lt;rdkit.Chem.rdchem.Mol object at 0x7fd4891f6120&gt;</td>\n",
              "    </tr>\n",
              "    <tr>\n",
              "      <th>2</th>\n",
              "      <td>FQDRMHHCWZAXJM-UHFFFAOYNA-N</td>\n",
              "      <td>125558</td>\n",
              "      <td>25553</td>\n",
              "      <td>A</td>\n",
              "      <td>9.98297</td>\n",
              "      <td>pubchem</td>\n",
              "      <td>205028</td>\n",
              "      <td>10116</td>\n",
              "      <td>SLC6A4</td>\n",
              "      <td>4061</td>\n",
              "      <td>O1C=2C=C3CC(N)CC3=CC2OC1</td>\n",
              "      <td>&lt;rdkit.Chem.rdchem.Mol object at 0x7fd4891f6190&gt;</td>\n",
              "    </tr>\n",
              "    <tr>\n",
              "      <th>3</th>\n",
              "      <td>QRAWNNQNLQPNIZ-UHFFFAOYNA-N</td>\n",
              "      <td>CHEMBL205229</td>\n",
              "      <td>6532</td>\n",
              "      <td>A</td>\n",
              "      <td>7.54000</td>\n",
              "      <td>chembl20</td>\n",
              "      <td>950695</td>\n",
              "      <td>9606</td>\n",
              "      <td>SLC6A4</td>\n",
              "      <td>4061</td>\n",
              "      <td>N1C=C(CCN)C2=C1C(=CC=C2)F</td>\n",
              "      <td>&lt;rdkit.Chem.rdchem.Mol object at 0x7fd4891f6200&gt;</td>\n",
              "    </tr>\n",
              "    <tr>\n",
              "      <th>4</th>\n",
              "      <td>HCFHWXDIZOAUTQ-UHFFFAOYNA-N</td>\n",
              "      <td>CHEMBL6376</td>\n",
              "      <td>25553</td>\n",
              "      <td>A</td>\n",
              "      <td>6.11000</td>\n",
              "      <td>chembl20</td>\n",
              "      <td>201505</td>\n",
              "      <td>10116</td>\n",
              "      <td>SLC6A4</td>\n",
              "      <td>4061</td>\n",
              "      <td>C1(=CC=2OCOC2C=C1C)CC(N)C</td>\n",
              "      <td>&lt;rdkit.Chem.rdchem.Mol object at 0x7fd4891f6270&gt;</td>\n",
              "    </tr>\n",
              "  </tbody>\n",
              "</table>\n",
              "</div>\n",
              "      <button class=\"colab-df-convert\" onclick=\"convertToInteractive('df-d925f10f-2102-4f88-995a-c10969c15c04')\"\n",
              "              title=\"Convert this dataframe to an interactive table.\"\n",
              "              style=\"display:none;\">\n",
              "        \n",
              "  <svg xmlns=\"http://www.w3.org/2000/svg\" height=\"24px\"viewBox=\"0 0 24 24\"\n",
              "       width=\"24px\">\n",
              "    <path d=\"M0 0h24v24H0V0z\" fill=\"none\"/>\n",
              "    <path d=\"M18.56 5.44l.94 2.06.94-2.06 2.06-.94-2.06-.94-.94-2.06-.94 2.06-2.06.94zm-11 1L8.5 8.5l.94-2.06 2.06-.94-2.06-.94L8.5 2.5l-.94 2.06-2.06.94zm10 10l.94 2.06.94-2.06 2.06-.94-2.06-.94-.94-2.06-.94 2.06-2.06.94z\"/><path d=\"M17.41 7.96l-1.37-1.37c-.4-.4-.92-.59-1.43-.59-.52 0-1.04.2-1.43.59L10.3 9.45l-7.72 7.72c-.78.78-.78 2.05 0 2.83L4 21.41c.39.39.9.59 1.41.59.51 0 1.02-.2 1.41-.59l7.78-7.78 2.81-2.81c.8-.78.8-2.07 0-2.86zM5.41 20L4 18.59l7.72-7.72 1.47 1.35L5.41 20z\"/>\n",
              "  </svg>\n",
              "      </button>\n",
              "      \n",
              "  <style>\n",
              "    .colab-df-container {\n",
              "      display:flex;\n",
              "      flex-wrap:wrap;\n",
              "      gap: 12px;\n",
              "    }\n",
              "\n",
              "    .colab-df-convert {\n",
              "      background-color: #E8F0FE;\n",
              "      border: none;\n",
              "      border-radius: 50%;\n",
              "      cursor: pointer;\n",
              "      display: none;\n",
              "      fill: #1967D2;\n",
              "      height: 32px;\n",
              "      padding: 0 0 0 0;\n",
              "      width: 32px;\n",
              "    }\n",
              "\n",
              "    .colab-df-convert:hover {\n",
              "      background-color: #E2EBFA;\n",
              "      box-shadow: 0px 1px 2px rgba(60, 64, 67, 0.3), 0px 1px 3px 1px rgba(60, 64, 67, 0.15);\n",
              "      fill: #174EA6;\n",
              "    }\n",
              "\n",
              "    [theme=dark] .colab-df-convert {\n",
              "      background-color: #3B4455;\n",
              "      fill: #D2E3FC;\n",
              "    }\n",
              "\n",
              "    [theme=dark] .colab-df-convert:hover {\n",
              "      background-color: #434B5C;\n",
              "      box-shadow: 0px 1px 3px 1px rgba(0, 0, 0, 0.15);\n",
              "      filter: drop-shadow(0px 1px 2px rgba(0, 0, 0, 0.3));\n",
              "      fill: #FFFFFF;\n",
              "    }\n",
              "  </style>\n",
              "\n",
              "      <script>\n",
              "        const buttonEl =\n",
              "          document.querySelector('#df-d925f10f-2102-4f88-995a-c10969c15c04 button.colab-df-convert');\n",
              "        buttonEl.style.display =\n",
              "          google.colab.kernel.accessAllowed ? 'block' : 'none';\n",
              "\n",
              "        async function convertToInteractive(key) {\n",
              "          const element = document.querySelector('#df-d925f10f-2102-4f88-995a-c10969c15c04');\n",
              "          const dataTable =\n",
              "            await google.colab.kernel.invokeFunction('convertToInteractive',\n",
              "                                                     [key], {});\n",
              "          if (!dataTable) return;\n",
              "\n",
              "          const docLinkHtml = 'Like what you see? Visit the ' +\n",
              "            '<a target=\"_blank\" href=https://colab.research.google.com/notebooks/data_table.ipynb>data table notebook</a>'\n",
              "            + ' to learn more about interactive tables.';\n",
              "          element.innerHTML = '';\n",
              "          dataTable['output_type'] = 'display_data';\n",
              "          await google.colab.output.renderOutput(dataTable, element);\n",
              "          const docLink = document.createElement('div');\n",
              "          docLink.innerHTML = docLinkHtml;\n",
              "          element.appendChild(docLink);\n",
              "        }\n",
              "      </script>\n",
              "    </div>\n",
              "  </div>\n",
              "  "
            ]
          },
          "metadata": {},
          "execution_count": 7
        }
      ]
    },
    {
      "cell_type": "code",
      "source": [
        "def mol2fp(mol):\n",
        "    fp = AllChem.GetHashedMorganFingerprint(mol, 2, nBits=4096)\n",
        "    ar = np.zeros((1,), dtype=np.int8)\n",
        "    DataStructs.ConvertToNumpyArray(fp, ar)\n",
        "    return ar\n",
        "     \n",
        "fp = mol2fp(Chem.MolFromSmiles(data.loc[1,\"SMILES\"]))"
      ],
      "metadata": {
        "id": "5y17LaiJn4mp"
      },
      "execution_count": 8,
      "outputs": []
    },
    {
      "cell_type": "code",
      "source": [
        "fp"
      ],
      "metadata": {
        "colab": {
          "base_uri": "https://localhost:8080/"
        },
        "id": "nUmpKn7dpcDC",
        "outputId": "7fa00960-9d10-4b78-896c-dc2e3be1fb42"
      },
      "execution_count": 9,
      "outputs": [
        {
          "output_type": "execute_result",
          "data": {
            "text/plain": [
              "array([0, 0, 0, ..., 0, 0, 0], dtype=int8)"
            ]
          },
          "metadata": {},
          "execution_count": 9
        }
      ]
    },
    {
      "cell_type": "code",
      "source": [
        "len(fp)"
      ],
      "metadata": {
        "colab": {
          "base_uri": "https://localhost:8080/"
        },
        "id": "1F5oSjvNpdWb",
        "outputId": "50de7f22-e122-4d66-d453-187f0909b374"
      },
      "execution_count": 10,
      "outputs": [
        {
          "output_type": "execute_result",
          "data": {
            "text/plain": [
              "4096"
            ]
          },
          "metadata": {},
          "execution_count": 10
        }
      ]
    },
    {
      "cell_type": "code",
      "source": [
        "data.loc[1,\"SMILES\"]"
      ],
      "metadata": {
        "colab": {
          "base_uri": "https://localhost:8080/",
          "height": 35
        },
        "id": "3WQmhwlwpjTM",
        "outputId": "5841088e-151c-42e2-e496-97da7425b5ce"
      },
      "execution_count": 11,
      "outputs": [
        {
          "output_type": "execute_result",
          "data": {
            "text/plain": [
              "'C(#CI)COC=1C=C(Cl)C(=CC1Cl)Cl'"
            ],
            "application/vnd.google.colaboratory.intrinsic+json": {
              "type": "string"
            }
          },
          "metadata": {},
          "execution_count": 11
        }
      ]
    },
    {
      "cell_type": "code",
      "source": [
        "fp.reshape((64,-1))"
      ],
      "metadata": {
        "colab": {
          "base_uri": "https://localhost:8080/"
        },
        "id": "bfBM9Fjupwgw",
        "outputId": "ea34a3be-e32b-4d67-e778-66242da8c547"
      },
      "execution_count": 12,
      "outputs": [
        {
          "output_type": "execute_result",
          "data": {
            "text/plain": [
              "array([[0, 0, 0, ..., 0, 0, 0],\n",
              "       [0, 0, 0, ..., 0, 0, 0],\n",
              "       [0, 0, 0, ..., 0, 0, 0],\n",
              "       ...,\n",
              "       [0, 0, 0, ..., 0, 0, 0],\n",
              "       [0, 0, 0, ..., 0, 0, 0],\n",
              "       [0, 0, 0, ..., 0, 0, 0]], dtype=int8)"
            ]
          },
          "metadata": {},
          "execution_count": 12
        }
      ]
    },
    {
      "cell_type": "code",
      "source": [
        "4096/64"
      ],
      "metadata": {
        "colab": {
          "base_uri": "https://localhost:8080/"
        },
        "id": "fwDM2as-qOWT",
        "outputId": "d11d9407-7535-4b7c-f0a1-2a11d9050e7c"
      },
      "execution_count": 13,
      "outputs": [
        {
          "output_type": "execute_result",
          "data": {
            "text/plain": [
              "64.0"
            ]
          },
          "metadata": {},
          "execution_count": 13
        }
      ]
    },
    {
      "cell_type": "code",
      "source": [
        "plt.matshow(fp.reshape((64,-1)) > 0)"
      ],
      "metadata": {
        "colab": {
          "base_uri": "https://localhost:8080/",
          "height": 293
        },
        "id": "5V3RNcbkqbFC",
        "outputId": "393dcb0a-f2a2-42e6-9954-1f5c1b52a405"
      },
      "execution_count": 14,
      "outputs": [
        {
          "output_type": "execute_result",
          "data": {
            "text/plain": [
              "<matplotlib.image.AxesImage at 0x7fd489120700>"
            ]
          },
          "metadata": {},
          "execution_count": 14
        },
        {
          "output_type": "display_data",
          "data": {
            "text/plain": [
              "<Figure size 288x288 with 1 Axes>"
            ],
            "image/png": "[encoded data removed]"
          },
          "metadata": {
            "needs_background": "light"
          }
        }
      ]
    },
    {
      "cell_type": "code",
      "source": [
        "data[\"FPs\"] = data.Molecule.apply(mol2fp)"
      ],
      "metadata": {
        "id": "5hGsxjWYrJiZ"
      },
      "execution_count": 15,
      "outputs": []
    },
    {
      "cell_type": "code",
      "source": [
        "data[\"FPs\"].head(5)"
      ],
      "metadata": {
        "colab": {
          "base_uri": "https://localhost:8080/"
        },
        "id": "FE3EjBWlrgVt",
        "outputId": "1b4f6e9a-d768-4d76-d483-0b9a8b91e5f5"
      },
      "execution_count": 16,
      "outputs": [
        {
          "output_type": "execute_result",
          "data": {
            "text/plain": [
              "0    [0, 0, 0, 0, 0, 0, 0, 0, 0, 0, 0, 0, 0, 0, 0, ...\n",
              "1    [0, 0, 0, 0, 0, 0, 0, 0, 0, 0, 0, 0, 0, 0, 0, ...\n",
              "2    [0, 0, 0, 0, 0, 0, 0, 0, 0, 0, 0, 0, 0, 0, 0, ...\n",
              "3    [0, 0, 0, 0, 0, 0, 0, 0, 0, 0, 0, 0, 0, 0, 0, ...\n",
              "4    [0, 0, 0, 0, 0, 0, 0, 0, 0, 0, 0, 0, 0, 0, 0, ...\n",
              "Name: FPs, dtype: object"
            ]
          },
          "metadata": {},
          "execution_count": 16
        }
      ]
    },
    {
      "cell_type": "code",
      "source": [
        "X = np.stack(data.FPs.values)"
      ],
      "metadata": {
        "id": "R5D0oAThri_E"
      },
      "execution_count": 20,
      "outputs": []
    },
    {
      "cell_type": "code",
      "source": [
        "data.FPs.values"
      ],
      "metadata": {
        "colab": {
          "base_uri": "https://localhost:8080/"
        },
        "id": "PQG3eJx6sPMz",
        "outputId": "3fab5ebe-5977-4348-e01c-03aeee39b347"
      },
      "execution_count": 18,
      "outputs": [
        {
          "output_type": "execute_result",
          "data": {
            "text/plain": [
              "array([array([0, 0, 0, ..., 0, 0, 0], dtype=int8),\n",
              "       array([0, 0, 0, ..., 0, 0, 0], dtype=int8),\n",
              "       array([0, 0, 0, ..., 0, 0, 0], dtype=int8), ...,\n",
              "       array([0, 2, 0, ..., 0, 0, 0], dtype=int8),\n",
              "       array([0, 2, 0, ..., 0, 0, 0], dtype=int8),\n",
              "       array([0, 2, 0, ..., 0, 0, 0], dtype=int8)], dtype=object)"
            ]
          },
          "metadata": {},
          "execution_count": 18
        }
      ]
    },
    {
      "cell_type": "code",
      "source": [
        "X"
      ],
      "metadata": {
        "colab": {
          "base_uri": "https://localhost:8080/"
        },
        "id": "u5tiSP-rsTYB",
        "outputId": "ec3c2be3-7a81-4d43-e9c9-26addb8e993c"
      },
      "execution_count": 21,
      "outputs": [
        {
          "output_type": "execute_result",
          "data": {
            "text/plain": [
              "array([[0, 0, 0, ..., 0, 0, 0],\n",
              "       [0, 0, 0, ..., 0, 0, 0],\n",
              "       [0, 0, 0, ..., 0, 0, 0],\n",
              "       ...,\n",
              "       [0, 2, 0, ..., 0, 0, 0],\n",
              "       [0, 2, 0, ..., 0, 0, 0],\n",
              "       [0, 2, 0, ..., 0, 0, 0]], dtype=int8)"
            ]
          },
          "metadata": {},
          "execution_count": 21
        }
      ]
    },
    {
      "cell_type": "code",
      "source": [
        "y = data.pXC50.values.reshape((-1,1))"
      ],
      "metadata": {
        "id": "SUMWzjMpsZD_"
      },
      "execution_count": 22,
      "outputs": []
    },
    {
      "cell_type": "code",
      "source": [
        "y"
      ],
      "metadata": {
        "colab": {
          "base_uri": "https://localhost:8080/"
        },
        "id": "wyI1nyKvsmTh",
        "outputId": "eebd0d5e-b2bb-40d0-a916-b5eddba1043f"
      },
      "execution_count": 23,
      "outputs": [
        {
          "output_type": "execute_result",
          "data": {
            "text/plain": [
              "array([[6.85387],\n",
              "       [6.37   ],\n",
              "       [9.98297],\n",
              "       ...,\n",
              "       [6.60206],\n",
              "       [6.8    ],\n",
              "       [6.14   ]])"
            ]
          },
          "metadata": {},
          "execution_count": 23
        }
      ]
    },
    {
      "cell_type": "code",
      "source": [
        "X_train, X_test, y_train, y_test = train_test_split(X, y,  test_size=0.10, random_state=42)\n",
        "X_train, X_validation, y_train, y_validation = train_test_split(X_train, y_train,  test_size=0.05, random_state=42)\n",
        "#Normalizing output using standard scaling\n",
        "scaler = StandardScaler()\n",
        "y_train = scaler.fit_transform(y_train)\n",
        "y_test = scaler.transform(y_test)\n",
        "y_validation = scaler.transform(y_validation)"
      ],
      "metadata": {
        "id": "PnCENDk7snjC"
      },
      "execution_count": 24,
      "outputs": []
    },
    {
      "cell_type": "code",
      "source": [
        "y_validation"
      ],
      "metadata": {
        "colab": {
          "base_uri": "https://localhost:8080/"
        },
        "id": "ucmxfmOguSVW",
        "outputId": "1d6f2b66-1698-4ce3-a559-e224d3e1963c"
      },
      "execution_count": 25,
      "outputs": [
        {
          "output_type": "execute_result",
          "data": {
            "text/plain": [
              "array([[ 0.98149849],\n",
              "       [ 0.10682453],\n",
              "       [ 0.16821306],\n",
              "       [ 1.44925375],\n",
              "       [-0.83578527],\n",
              "       [-0.58951784],\n",
              "       [-1.14149656],\n",
              "       [ 0.45052045],\n",
              "       [-0.10547497],\n",
              "       [-1.31982814],\n",
              "       [ 0.66729522],\n",
              "       [ 1.07491027],\n",
              "       [ 1.87315641],\n",
              "       [ 1.96052191],\n",
              "       [ 1.17856338],\n",
              "       [ 0.08984057],\n",
              "       [-0.52713576],\n",
              "       [-0.40269428],\n",
              "       [ 0.41253582],\n",
              "       [-0.3059961 ],\n",
              "       [-0.85276923],\n",
              "       [-0.4366622 ],\n",
              "       [ 0.57388344],\n",
              "       [-0.01150272],\n",
              "       [ 0.60005573],\n",
              "       [-1.66777854],\n",
              "       [-1.26781476],\n",
              "       [-1.26038428],\n",
              "       [ 1.51649324],\n",
              "       [-0.01206319],\n",
              "       [-0.82729329],\n",
              "       [-0.77634141],\n",
              "       [-0.93768903],\n",
              "       [-0.02865652],\n",
              "       [ 0.58264717],\n",
              "       [-0.09698299],\n",
              "       [ 0.70975513],\n",
              "       [ 0.72673909],\n",
              "       [ 1.00697443],\n",
              "       [-0.72410724],\n",
              "       [-1.3368121 ],\n",
              "       [-1.14612469],\n",
              "       [ 0.00649179],\n",
              "       [ 1.51649324],\n",
              "       [ 0.74372305],\n",
              "       [ 1.34665364],\n",
              "       [-0.77634141],\n",
              "       [-1.59157151],\n",
              "       [-1.79485253],\n",
              "       [-0.80181735],\n",
              "       [ 0.31918348],\n",
              "       [ 2.0277614 ],\n",
              "       [ 0.19174433],\n",
              "       [ 0.34459998],\n",
              "       [-0.71689755],\n",
              "       [-0.05141503],\n",
              "       [-1.63403141],\n",
              "       [ 0.54320192],\n",
              "       [ 0.45052045],\n",
              "       [-0.40269428],\n",
              "       [ 0.54320192],\n",
              "       [ 0.03259613],\n",
              "       [ 0.93188834],\n",
              "       [-1.01986593],\n",
              "       [-0.53007398],\n",
              "       [-1.38448608],\n",
              "       [-0.65745369],\n",
              "       [ 0.02190473],\n",
              "       [ 0.68427919],\n",
              "       [-0.21587072],\n",
              "       [-1.01986593],\n",
              "       [-1.37921256],\n",
              "       [ 0.08134859],\n",
              "       [-0.86070074],\n",
              "       [-1.15519412],\n",
              "       [-1.31982814],\n",
              "       [-1.71895121],\n",
              "       [ 0.65283338],\n",
              "       [-0.02055517],\n",
              "       [ 0.84598347],\n",
              "       [ 0.58237542],\n",
              "       [ 1.26173384],\n",
              "       [ 1.56744513],\n",
              "       [ 0.60005573],\n",
              "       [-0.89425255],\n",
              "       [ 0.51775995],\n",
              "       [-0.521582  ],\n",
              "       [-0.15642685],\n",
              "       [-0.11396695],\n",
              "       [-0.40878303],\n",
              "       [ 0.76368769],\n",
              "       [-0.31777448],\n",
              "       [ 0.54320192],\n",
              "       [ 1.13435414],\n",
              "       [-1.03110081],\n",
              "       [ 1.85627436],\n",
              "       [-1.62466475],\n",
              "       [ 0.66729522],\n",
              "       [-0.48761408],\n",
              "       [ 2.07696394],\n",
              "       [-1.58307953],\n",
              "       [ 0.6333273 ],\n",
              "       [-0.76784943],\n",
              "       [ 2.0939479 ],\n",
              "       [-0.45364616],\n",
              "       [-0.29800515],\n",
              "       [ 1.75426869],\n",
              "       [-1.63403141],\n",
              "       [ 1.16832206],\n",
              "       [ 0.07373128],\n",
              "       [ 0.17476037],\n",
              "       [-0.09497039],\n",
              "       [ 1.06952636],\n",
              "       [ 0.99848245],\n",
              "       [ 0.02541192],\n",
              "       [ 0.97300651],\n",
              "       [-0.98014893],\n",
              "       [ 1.11132389],\n",
              "       [ 0.73601233],\n",
              "       [-0.00357121],\n",
              "       [-1.77839507],\n",
              "       [ 0.57388344],\n",
              "       [-0.51309002],\n",
              "       [-0.78992858],\n",
              "       [-0.99713289],\n",
              "       [ 0.14079245],\n",
              "       [-0.75887341],\n",
              "       [-1.45569982],\n",
              "       [-0.40269428],\n",
              "       [-1.20094042],\n",
              "       [ 0.22697756],\n",
              "       [ 0.83713483],\n",
              "       [ 0.51775995],\n",
              "       [ 0.40404384],\n",
              "       [-0.57253388],\n",
              "       [-1.6391266 ],\n",
              "       [ 2.61195869],\n",
              "       [-0.64896171],\n",
              "       [-0.78276984],\n",
              "       [-0.89425255],\n",
              "       [ 1.05792631],\n",
              "       [-0.97165695],\n",
              "       [ 0.00492077],\n",
              "       [-0.97165695],\n",
              "       [-1.32832012],\n",
              "       [-0.07999903],\n",
              "       [ 0.32761602],\n",
              "       [ 0.66729522],\n",
              "       [-0.84427725],\n",
              "       [ 1.26173384],\n",
              "       [ 1.07491027],\n",
              "       [ 1.55895315],\n",
              "       [-0.29229854],\n",
              "       [-0.23980961],\n",
              "       [-1.61704745],\n",
              "       [-1.10745221],\n",
              "       [-1.38776398],\n",
              "       [ 0.26817216],\n",
              "       [ 0.00492077],\n",
              "       [-0.06301507],\n",
              "       [-0.26419858],\n",
              "       [ 1.26173384],\n",
              "       [ 0.31912404],\n",
              "       [-0.45364616],\n",
              "       [-0.77546674],\n",
              "       [ 0.96451453],\n",
              "       [-1.32832012],\n",
              "       [-0.89956004],\n",
              "       [-0.1819028 ],\n",
              "       [ 0.28515612],\n",
              "       [ 1.26173384],\n",
              "       [ 0.70975513],\n",
              "       [-1.13300458],\n",
              "       [-1.2518923 ],\n",
              "       [-1.43627017],\n",
              "       [-0.4366622 ],\n",
              "       [ 0.10689247],\n",
              "       [ 0.57388344],\n",
              "       [ 1.77138852],\n",
              "       [ 1.48252532],\n",
              "       [ 0.28515612],\n",
              "       [-0.92919705],\n",
              "       [ 0.58237542],\n",
              "       [ 0.2511882 ],\n",
              "       [-1.04808478],\n",
              "       [-0.57710257],\n",
              "       [-1.31982814],\n",
              "       [-1.31982814],\n",
              "       [-0.07999903],\n",
              "       [-1.38776398],\n",
              "       [-0.40269428],\n",
              "       [-0.77634141],\n",
              "       [-0.91221309],\n",
              "       [-0.07999903],\n",
              "       [-0.42630199],\n",
              "       [ 0.75221503],\n",
              "       [-0.73165661],\n",
              "       [ 2.11093186],\n",
              "       [ 0.41258677],\n",
              "       [ 0.84562681],\n",
              "       [-0.49610606],\n",
              "       [ 0.98999047],\n",
              "       [ 0.15777641],\n",
              "       [ 0.79467493],\n",
              "       [ 2.45061107],\n",
              "       [-1.01411685],\n",
              "       [-1.56609557],\n",
              "       [-0.02865652],\n",
              "       [ 0.75221503],\n",
              "       [ 0.4916556 ],\n",
              "       [ 1.39239994],\n",
              "       [ 1.08340225],\n",
              "       [ 0.85568981],\n",
              "       [ 1.55895315],\n",
              "       [-0.77634141],\n",
              "       [-0.70496632],\n",
              "       [-1.13300458],\n",
              "       [-0.02055517],\n",
              "       [ 1.08340225],\n",
              "       [-0.8237861 ],\n",
              "       [-0.28380656],\n",
              "       [ 0.53991552],\n",
              "       [-1.34530408],\n",
              "       [-0.4366622 ],\n",
              "       [ 0.58237542],\n",
              "       [ 0.57388344],\n",
              "       [ 3.21488928],\n",
              "       [ 3.25734919],\n",
              "       [-0.33143807],\n",
              "       [ 0.30214008],\n",
              "       [-0.85276923],\n",
              "       [ 1.11737018],\n",
              "       [ 0.14928443],\n",
              "       [-0.04603111],\n",
              "       [ 1.51649324],\n",
              "       [ 0.54320192],\n",
              "       [-1.55860564],\n",
              "       [ 0.83713483],\n",
              "       [-0.21587072],\n",
              "       [-0.25833062],\n",
              "       [-0.92919705],\n",
              "       [-0.41077015],\n",
              "       [-0.58951784],\n",
              "       [-0.98864091],\n",
              "       [-1.62553943],\n",
              "       [ 0.78618295],\n",
              "       [ 0.74500534],\n",
              "       [ 0.15777641],\n",
              "       [-1.48966775],\n",
              "       [-1.14149656],\n",
              "       [ 1.4060975 ],\n",
              "       [ 0.45052045],\n",
              "       [-1.4217319 ],\n",
              "       [-0.2243627 ],\n",
              "       [-0.06301507],\n",
              "       [ 0.11531651],\n",
              "       [ 0.99076324],\n",
              "       [ 3.1214775 ],\n",
              "       [-1.59157151],\n",
              "       [-1.69048609],\n",
              "       [-1.59157151],\n",
              "       [-0.02055517],\n",
              "       [ 1.59292107],\n",
              "       [-0.93757015],\n",
              "       [ 1.00697443],\n",
              "       [ 1.66085691],\n",
              "       [ 1.69482483],\n",
              "       [-0.66594567],\n",
              "       [-0.07999903],\n",
              "       [ 1.3211777 ],\n",
              "       [-0.521582  ],\n",
              "       [-0.93768903],\n",
              "       [ 0.94753057],\n",
              "       [-1.31982814],\n",
              "       [-0.49610606],\n",
              "       [-0.87449172],\n",
              "       [-1.30284418],\n",
              "       [ 1.17709427],\n",
              "       [ 0.57388344],\n",
              "       [-0.12245893],\n",
              "       [-0.87824517],\n",
              "       [ 1.48252532],\n",
              "       [-0.85276923],\n",
              "       [-1.04556266],\n",
              "       [-0.97165695],\n",
              "       [ 0.3785679 ],\n",
              "       [-1.54911161],\n",
              "       [-0.42817022],\n",
              "       [-0.58951784],\n",
              "       [ 1.60141305],\n",
              "       [-0.96316497],\n",
              "       [ 1.4485574 ],\n",
              "       [-0.93768903],\n",
              "       [ 0.48896364],\n",
              "       [ 1.52019575],\n",
              "       [ 1.6015659 ],\n",
              "       [-0.1819028 ],\n",
              "       [ 0.42479824],\n",
              "       [-0.29066808],\n",
              "       [-0.4366622 ],\n",
              "       [ 0.70451557],\n",
              "       [ 0.14079245],\n",
              "       [-1.15848052],\n",
              "       [-0.64706799],\n",
              "       [-0.06301507],\n",
              "       [-0.31777448],\n",
              "       [-0.62348577],\n",
              "       [ 0.8376953 ],\n",
              "       [-1.85482289],\n",
              "       [ 0.60005573],\n",
              "       [-1.77839507],\n",
              "       [-0.95467299],\n",
              "       [-0.05036202],\n",
              "       [-1.65101537],\n",
              "       [ 0.08984057],\n",
              "       [-0.21587072],\n",
              "       [ 0.6757872 ],\n",
              "       [ 0.7983095 ],\n",
              "       [-0.3942023 ],\n",
              "       [-1.05605025],\n",
              "       [-0.65745369],\n",
              "       [-0.92005119],\n",
              "       [-0.23285468],\n",
              "       [-0.70840557],\n",
              "       [ 0.26212587],\n",
              "       [-0.29229854]])"
            ]
          },
          "metadata": {},
          "execution_count": 25
        }
      ]
    },
    {
      "cell_type": "code",
      "source": [
        "plt.hist(y_train)\n",
        "plt.show() "
      ],
      "metadata": {
        "colab": {
          "base_uri": "https://localhost:8080/",
          "height": 267
        },
        "id": "CR5g5giIuvOb",
        "outputId": "f8d5f44c-a481-467b-bc45-52c188b927a7"
      },
      "execution_count": 26,
      "outputs": [
        {
          "output_type": "display_data",
          "data": {
            "text/plain": [
              "<Figure size 432x288 with 1 Axes>"
            ],
            "image/png": "[encoded data removed]"
          },
          "metadata": {
            "needs_background": "light"
          }
        }
      ]
    },
    {
      "cell_type": "code",
      "source": [
        "X_train.shape"
      ],
      "metadata": {
        "colab": {
          "base_uri": "https://localhost:8080/"
        },
        "id": "JO_1D1c1uVBe",
        "outputId": "a2c0d9fb-960b-46c2-c55b-32b524e13eb5"
      },
      "execution_count": 27,
      "outputs": [
        {
          "output_type": "execute_result",
          "data": {
            "text/plain": [
              "(6179, 4096)"
            ]
          },
          "metadata": {},
          "execution_count": 27
        }
      ]
    },
    {
      "cell_type": "code",
      "source": [
        "7700*0.85"
      ],
      "metadata": {
        "colab": {
          "base_uri": "https://localhost:8080/"
        },
        "id": "JxP0GBOXvB6b",
        "outputId": "5876142b-45f6-43c7-d4a9-975bdc0f5b85"
      },
      "execution_count": 28,
      "outputs": [
        {
          "output_type": "execute_result",
          "data": {
            "text/plain": [
              "6545.0"
            ]
          },
          "metadata": {},
          "execution_count": 28
        }
      ]
    },
    {
      "cell_type": "code",
      "source": [
        "feature_select = VarianceThreshold(threshold=0.05)\n",
        "X_train = feature_select.fit_transform(X_train)\n",
        "X_validation = feature_select.transform(X_validation)\n",
        "X_test = feature_select.transform(X_test)\n",
        "X_train.shape"
      ],
      "metadata": {
        "colab": {
          "base_uri": "https://localhost:8080/"
        },
        "id": "w3Z3Y9uPvS7Y",
        "outputId": "07020309-5641-473b-8cc3-016a2756f80f"
      },
      "execution_count": 29,
      "outputs": [
        {
          "output_type": "execute_result",
          "data": {
            "text/plain": [
              "(6179, 222)"
            ]
          },
          "metadata": {},
          "execution_count": 29
        }
      ]
    },
    {
      "cell_type": "code",
      "source": [
        "# Let's get those arrays transfered to the GPU memory as tensors\n",
        "device = torch.device(\"cuda:0\" if torch.cuda.is_available() else \"cpu\")\n",
        "print(device)\n",
        "# If you don't have a GPU, buy a graphics card. I have for a long time used a 1060 GTX, which is not that expensive anymore.\n",
        "X_train = torch.tensor(X_train, device=device).float()\n",
        "X_test = torch.tensor(X_test, device=device).float()\n",
        "X_validation = torch.tensor(X_validation, device=device).float()\n",
        "y_train = torch.tensor(y_train, device=device).float()\n",
        "y_test = torch.tensor(y_test, device=device).float()\n",
        "y_validation = torch.tensor(y_validation, device=device).float()\n",
        "X_train"
      ],
      "metadata": {
        "colab": {
          "base_uri": "https://localhost:8080/"
        },
        "id": "9nCxDw9kwEdP",
        "outputId": "17b3c47e-27b2-4887-fde3-c4315d516d03"
      },
      "execution_count": 30,
      "outputs": [
        {
          "output_type": "stream",
          "name": "stdout",
          "text": [
            "cpu\n"
          ]
        },
        {
          "output_type": "execute_result",
          "data": {
            "text/plain": [
              "tensor([[0., 0., 1.,  ..., 0., 0., 0.],\n",
              "        [0., 0., 0.,  ..., 0., 0., 0.],\n",
              "        [0., 0., 0.,  ..., 1., 0., 0.],\n",
              "        ...,\n",
              "        [0., 0., 0.,  ..., 0., 0., 0.],\n",
              "        [0., 0., 0.,  ..., 0., 0., 0.],\n",
              "        [0., 0., 0.,  ..., 0., 1., 0.]])"
            ]
          },
          "metadata": {},
          "execution_count": 30
        }
      ]
    },
    {
      "cell_type": "code",
      "source": [
        "device = torch.device(\"cuda:0\" if torch.cuda.is_available() else \"cpu\")"
      ],
      "metadata": {
        "id": "-yEwGG9cw3Mu"
      },
      "execution_count": 31,
      "outputs": []
    },
    {
      "cell_type": "code",
      "source": [
        "device"
      ],
      "metadata": {
        "colab": {
          "base_uri": "https://localhost:8080/"
        },
        "id": "T3LMYemfw_w3",
        "outputId": "e879670a-3a77-4d94-ef46-bd4d70b1b768"
      },
      "execution_count": 32,
      "outputs": [
        {
          "output_type": "execute_result",
          "data": {
            "text/plain": [
              "device(type='cpu')"
            ]
          },
          "metadata": {},
          "execution_count": 32
        }
      ]
    },
    {
      "cell_type": "code",
      "source": [
        "from torch.utils.data import TensorDataset\n",
        "train_dataset = TensorDataset(X_train, y_train)\n",
        "validation_dataset = TensorDataset(X_validation, y_validation)"
      ],
      "metadata": {
        "id": "2--1IvgqxAiX"
      },
      "execution_count": 33,
      "outputs": []
    },
    {
      "cell_type": "code",
      "source": [
        "train_dataset"
      ],
      "metadata": {
        "colab": {
          "base_uri": "https://localhost:8080/"
        },
        "id": "fNIg1m5IyAuG",
        "outputId": "3124831e-9541-4ce9-bc51-8bf92883b1fe"
      },
      "execution_count": 34,
      "outputs": [
        {
          "output_type": "execute_result",
          "data": {
            "text/plain": [
              "<torch.utils.data.dataset.TensorDataset at 0x7fd488ef8fa0>"
            ]
          },
          "metadata": {},
          "execution_count": 34
        }
      ]
    },
    {
      "cell_type": "code",
      "source": [
        "train_loader = torch.utils.data.DataLoader(dataset=train_dataset,\n",
        "                                          batch_size=256,\n",
        "                                          shuffle=True)\n",
        "validation_loader = torch.utils.data.DataLoader(dataset=validation_dataset,\n",
        "                                          batch_size=256,\n",
        "                                          shuffle=False)"
      ],
      "metadata": {
        "id": "rgXY2SzAyCSf"
      },
      "execution_count": 35,
      "outputs": []
    },
    {
      "cell_type": "code",
      "source": [
        "class Net(nn.Module):\n",
        "    def __init__(self, input_size, hidden_size, dropout_rate, out_size):\n",
        "        super(Net, self).__init__()\n",
        "        # Three layers and a output layer\n",
        "        self.fc1 = nn.Linear(input_size, hidden_size)  # 1st Full-Connected Layer\n",
        "        self.fc15 = nn.Linear(hidden_size, hidden_size)\n",
        "        self.fc2 = nn.Linear(hidden_size, hidden_size)\n",
        "        self.fc3 = nn.Linear(hidden_size, hidden_size)\n",
        "        self.fc_out = nn.Linear(hidden_size, out_size) # Output layer\n",
        "        #Layer normalization for faster training\n",
        "        self.ln1 = nn.LayerNorm(hidden_size)\n",
        "        self.ln15 = nn.LayerNorm(hidden_size)        \n",
        "        self.ln2 = nn.LayerNorm(hidden_size)\n",
        "        self.ln3 = nn.LayerNorm(hidden_size)        \n",
        "        #LeakyReLU will be used as the activation function\n",
        "        self.activation = nn.LeakyReLU()\n",
        "        #Dropout for regularization\n",
        "        self.dropout = nn.Dropout(dropout_rate)\n",
        "     \n",
        "    def forward(self, x):# Forward pass: stacking each layer together\n",
        "        # Fully connected =&amp;gt; Layer Norm =&amp;gt; LeakyReLU =&amp;gt; Dropout times 3\n",
        "        out = self.fc1(x)\n",
        "        out = self.ln1(out)\n",
        "        out = self.activation(out)\n",
        "        out = self.dropout(out)\n",
        "        out = self.fc15(out)\n",
        "        out = self.ln15(out)\n",
        "        out = self.activation(out)\n",
        "        out = self.dropout(out)\n",
        "        out = self.fc2(out)\n",
        "        out = self.ln2(out)\n",
        "        out = self.activation(out)\n",
        "        out = self.dropout(out)\n",
        "        out = self.fc3(out)\n",
        "        out = self.ln3(out)\n",
        "        out = self.activation(out)\n",
        "        out = self.dropout(out)\n",
        "        #Final output layer\n",
        "        out = self.fc_out(out)\n",
        "        return out\n"
      ],
      "metadata": {
        "id": "LIbg4OB-lOX3"
      },
      "execution_count": 36,
      "outputs": []
    },
    {
      "cell_type": "code",
      "source": [
        "#Defining the hyperparameters\n",
        "input_size = X_train.size()[-1]     # The input size should fit our fingerprint size\n",
        "hidden_size = 4096   # The size of the hidden layer\n",
        "dropout_rate = 0.80    # The dropout rate\n",
        "output_size = 1        # This is just a single task, so this will be one\n",
        "learning_rate = 0.001  # The learning rate for the optimizer\n",
        "model = Net(input_size, hidden_size, dropout_rate, output_size)"
      ],
      "metadata": {
        "id": "IJjLbyu_lcAJ"
      },
      "execution_count": 85,
      "outputs": []
    },
    {
      "cell_type": "code",
      "source": [
        "criterion = nn.MSELoss()\n",
        "optimizer = torch.optim.Adam(model.parameters(), lr=learning_rate)"
      ],
      "metadata": {
        "id": "4s6ebquNnrdY"
      },
      "execution_count": 86,
      "outputs": []
    },
    {
      "cell_type": "code",
      "source": [
        "model.train() #Ensure the network is in \"train\" mode with dropouts active\n",
        "epochs = 30\n",
        "for e in range(epochs):\n",
        "    running_loss = 0\n",
        "    for fps, labels in train_loader:\n",
        "        # Training pass\n",
        "        optimizer.zero_grad() # Initialize the gradients, which will be recorded during the forward pa\n",
        "         \n",
        "        output = model(fps) #Forward pass of the mini-batch\n",
        "        loss = criterion(output, labels) #Computing the loss\n",
        "        loss.backward() # calculate the backward pass\n",
        "        optimizer.step() # Optimize the weights\n",
        "         \n",
        "        running_loss += loss.item()\n",
        "    else:\n",
        "        if e%10 == 0:\n",
        "            validation_loss = torch.mean(( y_validation - model(X_validation) )**2).item()\n",
        "            print(\"Epoch: %3i Training loss: %0.2F Validation loss: %0.2F\"%(e,(running_loss/len(train_loader)), validation_loss))"
      ],
      "metadata": {
        "colab": {
          "base_uri": "https://localhost:8080/"
        },
        "id": "DccYjMCKoHQt",
        "outputId": "96a4cf49-e44b-4d94-9ae1-9fe2bb70fae4"
      },
      "execution_count": 87,
      "outputs": [
        {
          "output_type": "stream",
          "name": "stdout",
          "text": [
            "Epoch:   0 Training loss: 6.85 Validation loss: 1.11\n",
            "Epoch:  10 Training loss: 0.61 Validation loss: 0.69\n",
            "Epoch:  20 Training loss: 0.42 Validation loss: 0.53\n"
          ]
        }
      ]
    },
    {
      "cell_type": "code",
      "source": [
        "model.eval() #Switch to evaluation mode, where dropout is switched off\n",
        "y_pred_train = model(X_train)\n",
        "y_pred_validation = model(X_validation)\n",
        "y_pred_test = model(X_test)"
      ],
      "metadata": {
        "id": "1NsUBxKQpEEm"
      },
      "execution_count": 88,
      "outputs": []
    },
    {
      "cell_type": "code",
      "source": [
        "torch.mean(( y_train - y_pred_train )**2).item()"
      ],
      "metadata": {
        "colab": {
          "base_uri": "https://localhost:8080/"
        },
        "id": "5O14pigwqWjm",
        "outputId": "01762538-6eba-4b5b-e320-4effc654f9e7"
      },
      "execution_count": 90,
      "outputs": [
        {
          "output_type": "execute_result",
          "data": {
            "text/plain": [
              "0.26145079731941223"
            ]
          },
          "metadata": {},
          "execution_count": 90
        }
      ]
    },
    {
      "cell_type": "code",
      "source": [
        "torch.mean(( y_validation - y_pred_validation )**2).item()"
      ],
      "metadata": {
        "colab": {
          "base_uri": "https://localhost:8080/"
        },
        "id": "5gq7YkM8qcby",
        "outputId": "ebe24058-e3b2-496e-8e1d-5149e76f05e9"
      },
      "execution_count": 91,
      "outputs": [
        {
          "output_type": "execute_result",
          "data": {
            "text/plain": [
              "0.42744797468185425"
            ]
          },
          "metadata": {},
          "execution_count": 91
        }
      ]
    },
    {
      "cell_type": "code",
      "source": [
        "torch.mean(( y_test - y_pred_test )**2).item()"
      ],
      "metadata": {
        "colab": {
          "base_uri": "https://localhost:8080/"
        },
        "id": "9FNwYrZRqfro",
        "outputId": "014b41ea-df20-457a-8612-99e52b9875d3"
      },
      "execution_count": 92,
      "outputs": [
        {
          "output_type": "execute_result",
          "data": {
            "text/plain": [
              "0.42167899012565613"
            ]
          },
          "metadata": {},
          "execution_count": 92
        }
      ]
    },
    {
      "cell_type": "code",
      "source": [
        "def flatten(tensor):\n",
        "    return tensor.cpu().detach().numpy().flatten()"
      ],
      "metadata": {
        "id": "_C23049kqjBf"
      },
      "execution_count": 93,
      "outputs": []
    },
    {
      "cell_type": "code",
      "source": [
        "plt.scatter(flatten(y_pred_test), flatten(y_test), alpha=0.5, label=\"Test\")\n",
        "plt.scatter(flatten(y_pred_train), flatten(y_train), alpha=0.1, label=\"Train\")\n",
        "plt.legend()\n",
        "plt.plot([-1.5, 1.5], [-1.5,1.5], c=\"b\")"
      ],
      "metadata": {
        "colab": {
          "base_uri": "https://localhost:8080/",
          "height": 284
        },
        "id": "O8hJGm6bq5HI",
        "outputId": "a6426f6f-55e5-4dd8-d5ba-5574681d14f8"
      },
      "execution_count": 94,
      "outputs": [
        {
          "output_type": "execute_result",
          "data": {
            "text/plain": [
              "[<matplotlib.lines.Line2D at 0x7fd488c14ac0>]"
            ]
          },
          "metadata": {},
          "execution_count": 94
        },
        {
          "output_type": "display_data",
          "data": {
            "text/plain": [
              "<Figure size 432x288 with 1 Axes>"
            ],
            "image/png": "[encoded data removed]"
          },
          "metadata": {
            "needs_background": "light"
          }
        }
      ]
    },
    {
      "cell_type": "code",
      "source": [
        "def predict_smiles(smiles):\n",
        "    fp = mol2fp(Chem.MolFromSmiles(smiles)).reshape(1,-1)\n",
        "    fp_filtered = feature_select.transform(fp)\n",
        "    fp_tensor = torch.tensor(fp_filtered, device=device).float()\n",
        "    prediction = model(fp_tensor)\n",
        "    #return prediction.cpu().detach().numpy()\n",
        "    pXC50 = scaler.inverse_transform(prediction.cpu().detach().numpy())\n",
        "    return pXC50[0][0]"
      ],
      "metadata": {
        "id": "qId4itjurIIL"
      },
      "execution_count": 95,
      "outputs": []
    },
    {
      "cell_type": "code",
      "source": [
        "predict_smiles('Cc1ccc2c(N3CCNCC3)cc(F)cc2n1')"
      ],
      "metadata": {
        "colab": {
          "base_uri": "https://localhost:8080/"
        },
        "id": "Rzy9Ekf8r-Oi",
        "outputId": "c927ff2b-dedc-46c7-bbb4-2c4ebc9e4832"
      },
      "execution_count": 96,
      "outputs": [
        {
          "output_type": "execute_result",
          "data": {
            "text/plain": [
              "8.558497"
            ]
          },
          "metadata": {},
          "execution_count": 96
        }
      ]
    },
    {
      "cell_type": "code",
      "source": [
        "model"
      ],
      "metadata": {
        "colab": {
          "base_uri": "https://localhost:8080/"
        },
        "id": "bA0rdhG5sHHE",
        "outputId": "e4f409e3-ac92-408d-8189-75b7e0bce2ff"
      },
      "execution_count": 97,
      "outputs": [
        {
          "output_type": "execute_result",
          "data": {
            "text/plain": [
              "Net(\n",
              "  (fc1): Linear(in_features=222, out_features=4096, bias=True)\n",
              "  (fc15): Linear(in_features=4096, out_features=4096, bias=True)\n",
              "  (fc2): Linear(in_features=4096, out_features=4096, bias=True)\n",
              "  (fc3): Linear(in_features=4096, out_features=4096, bias=True)\n",
              "  (fc_out): Linear(in_features=4096, out_features=1, bias=True)\n",
              "  (ln1): LayerNorm((4096,), eps=1e-05, elementwise_affine=True)\n",
              "  (ln15): LayerNorm((4096,), eps=1e-05, elementwise_affine=True)\n",
              "  (ln2): LayerNorm((4096,), eps=1e-05, elementwise_affine=True)\n",
              "  (ln3): LayerNorm((4096,), eps=1e-05, elementwise_affine=True)\n",
              "  (activation): LeakyReLU(negative_slope=0.01)\n",
              "  (dropout): Dropout(p=0.8, inplace=False)\n",
              ")"
            ]
          },
          "metadata": {},
          "execution_count": 97
        }
      ]
    },
    {
      "cell_type": "code",
      "source": [],
      "metadata": {
        "id": "NpcvY6uvsHfY"
      },
      "execution_count": null,
      "outputs": []
    }
  ]
}