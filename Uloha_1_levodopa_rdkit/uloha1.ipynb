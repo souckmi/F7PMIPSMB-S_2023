{
 "cells": [
  {
   "cell_type": "code",
   "execution_count": 1,
   "metadata": {},
   "outputs": [],
   "source": [
    "from rdkit import Chem\n",
    "from rdkit import DataStructs\n",
    "from rdkit.Chem.Fingerprints import FingerprintMols\n",
    "import pandas as pd"
   ]
  },
  {
   "cell_type": "code",
   "execution_count": 21,
   "metadata": {},
   "outputs": [
    {
     "name": "stdout",
     "output_type": "stream",
     "text": [
      "Score: 1.0 | Compound: L-DOPA (sodium)\n",
      "Score: 0.8958333333333334 | Compound: (S)-Methyl 2-amino-3-(3,4-dihydroxyphenyl)propanoate hydrochloride\n",
      "Score: 0.8958333333333334 | Compound: Melevodopa\n"
     ]
    }
   ],
   "source": [
    "# 1. load dataset in a Jupyter notebook and extract relevant column to be processed \n",
    "\n",
    "input_file = \"compounds.csv\"\n",
    "df = pd.read_csv(input_file, delimiter=\";\")\n",
    "smiles = df['smiles']\n",
    "names = df['name']\n",
    "\n",
    "ref_compound = 'C1=CC(=C(C=C1CC(C(=O)O)N)O)O'\n",
    "\n",
    "# 2. compute molecular fingerprints for each compound \n",
    "\n",
    "ms = [Chem.MolFromSmiles(smile) for smile in smiles]\n",
    "fps = [FingerprintMols.FingerprintMol(mol, minPath=1, maxPath=7, fpSize=2048,\n",
    "                               bitsPerHash=2, useHs=True, tgtDensity=0.0,\n",
    "                               minSize=128) for mol in ms]\n",
    "\n",
    "ref_m = Chem.MolFromSmiles(ref_compound)\n",
    "ref_fp = FingerprintMols.FingerprintMol(ref_m, minPath=1, maxPath=7, fpSize=2048,\n",
    "                               bitsPerHash=2, useHs=True, tgtDensity=0.0,\n",
    "                               minSize=128)\n",
    "\n",
    "# 3. compute Tanimoto similarity measure for each pair of compound x reference compound \n",
    "\n",
    "s = DataStructs.BulkTanimotoSimilarity(ref_fp, fps)\n",
    "similarities = dict(zip(names, s))\n",
    "\n",
    "# 4. provide sorting, report top 3 hits\n",
    "\n",
    "sorted_sims = dict(sorted(similarities.items(), key=lambda item: item[1], reverse=True))\n",
    "for i in range(3):\n",
    "    print(f\"Score: {list(sorted_sims.items())[i][1]} | Compound: {list(sorted_sims.items())[i][0]}\")\n",
    "\n",
    "# and discuss your results (with reference to the first lecture and limitations) \n",
    "#       U Tanimoto koeficientu se považují za podobné struktury, které dosáhnou hodnoty alespoň 0.85, proto bychom mohli říct, že \n",
    "#       L-DOPA, (S)-Methyl, Melevodopa a Tyrosine jsou referenci podobné, kde L-DOPA je podle koeficientu totožný (což odpovídá tomu,\n",
    "#       že jejich SMILE reprezentace je totožná). \n",
    "#       Každopádně tato hodnota udává pouze úroveň podobnosti strukturní, ne podobnost chemotypiskou. Proto nemůžeme říct,\n",
    "#       že budou mít stejný účinek jako reference.\n",
    "\n"
   ]
  }
 ],
 "metadata": {
  "kernelspec": {
   "display_name": "Python 3",
   "language": "python",
   "name": "python3"
  },
  "language_info": {
   "codemirror_mode": {
    "name": "ipython",
    "version": 3
   },
   "file_extension": ".py",
   "mimetype": "text/x-python",
   "name": "python",
   "nbconvert_exporter": "python",
   "pygments_lexer": "ipython3",
   "version": "3.10.10"
  },
  "orig_nbformat": 4,
  "vscode": {
   "interpreter": {
    "hash": "5e92bc0f115d166c7230a230dac097fb55bedd82363b64d8639d8b69e9134b15"
   }
  }
 },
 "nbformat": 4,
 "nbformat_minor": 2
}
